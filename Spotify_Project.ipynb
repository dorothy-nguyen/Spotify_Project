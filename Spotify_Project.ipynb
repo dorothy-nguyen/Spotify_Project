{
 "cells": [
  {
   "cell_type": "markdown",
   "metadata": {},
   "source": [
    "\n",
    "# Final  VEF Project: Spotify Audio Feature Exploration\n",
    "\n",
    "## Table of Contents\n",
    "<ul>\n",
    "<li><a href=\"#intro\">Introduction</a></li>\n",
    "<li><a href=\"#questions\">Data Overview</a></li>\n",
    "<li><a href=\"#wrangling\">Data Wrangling</a></li>\n",
    "<li><a href=\"#eda\">Exploratory Data Analysis</a></li>\n",
    "<li><a href=\"#conclusions\">Conclusions</a></li>\n",
    "</ul>"
   ]
  },
  {
   "cell_type": "markdown",
   "metadata": {},
   "source": [
    "<a id='intro'></a>\n",
    "## Introduction"
   ]
  },
  {
   "cell_type": "markdown",
   "metadata": {
    "slideshow": {
     "slide_type": "slide"
    }
   },
   "source": [
    "<font size=\"5\" color=\"green\">*Spotify - Music for EveryOne*</font>\n",
    "\n",
    "> In this Jupyter Notebook, I investigate the dataset which includes audio features of more than 130,000 Spotify tracks retrieved from [Kaggle](https://www.kaggle.com/tomigelo/spotify-audio-features \"Go to Kaggle'dataset\") latest updated by April 2019.\n",
    "\n",
    "> With [Statistics by Spotify as of Sep 2021](https://newsroom.spotify.com/company-info/ \"Go to page\"), it is currently the world's leading audio streaming subscription service with 381 millions MAUs (montly active users)  which offers us a platform of more than 73 millions pieces of tracks and podcasts.\n",
    "\n",
    "> My assumption is that popular songs may have some characteristics that are different from the less popular ones. \n",
    "\n",
    "> Over the course of this analysis, I will explore and visualize the data using Python libraries Pandas, Numpy and Matplotlib in order to answer three main research questions:\n",
    "\n",
    ">> Firstly, we explore the most popular artists and the most popular tracks on Spotify over the course of our dataset.\n",
    "    \n",
    ">> To verify my assumption, the second research question will discover what kinds of properties are associated with songs that have higher popularity ratings? For example, do songs which bring more energy, valence and danceability receive higher popularity? We can answer this question by looking at the characteristics of the most popular tracks and comparing them with the rest of tracks as well.\n",
    "\n",
    ">> Last by not least, we investigate whether there are any relationships between track's features themself and their popularity.\n",
    "\n",
    "> Answers to those questions can benefit both Spotify and its customers to get a better understanding of the most significant patterns and trends in the music industry."
   ]
  },
  {
   "cell_type": "markdown",
   "metadata": {
    "slideshow": {
     "slide_type": "slide"
    }
   },
   "source": [
    "<a id='questions'></a>\n",
    "## Data Overview\n",
    "\n",
    "### I. Source \n",
    "\n",
    "> Dataset is downloaded from Kaggle which originally used the Spotify API to request and pull data. \n",
    "\n",
    "### II. General Properties\n",
    "\n",
    "> The dataset consists information of artist_names, track_ids, track_names, track's features themself and their popularities.\n",
    "\n",
    "> According to [the Spotify API documentation](https://developer.spotify.com/documentation/web-api/reference/#/operations/get-audio-featuresaudio), each song is given a score in the following 3 categories:\n",
    "\n",
    ">> (1) Mood includes tempo, energy, valence and dancebility. \n",
    "\n",
    ">>> Tempo: the speed of a given track measured by number of beats per minute (BPM). The higher the tempo is, the faster the speed of the song is.\n",
    "\n",
    ">>> Energy: takes values from 0.0 to 1.0 which measures how fast, noisy and energetic a track feel. For example, death metal has high energy, while a Bach prelude scores low on the scale. \n",
    "\n",
    ">>> Danceability: receives values from 0.0 to 1.0 which describes how suitable a track is for dancing. A value of 0.0 is least danceable and 1.0 is most danceable.\n",
    "\n",
    ">>> Valence: measures the positiveness and happiness of the song. The higher the valence of the track is, the happier and more cheerful mood the track conveys to listeners. \n",
    "\n",
    ">> (2) Properties consists of loudness, speechiness and instrumentalness.\n",
    "\n",
    ">>> Loudness is the representation of a sound’s amplitude. According to [Spotify documentation](https://artists.spotify.com/help/article/loudness-normalization), track's loudness is normalized in Spotify which takes typical values in range between -60 and 0 db (Decibel). Higher loudness values represent the louder amplitudes the tracks have.\n",
    "\n",
    ">>> Speechiness takes values between 0.0 and 1.0 which represents the presence of spoken words in a track. In Spotify defined system, they categorize speechiness into 3 groups, below 0.33, between 0.33 and 0,66, and above 0.66. Specifically, music and other non-speech-like tracks take values below 0.33. Rap music or tracks containing both music and speech are most likely to take value between 0.33 and 0.66. Whereas, talk show, audiobook, or poetry has speechiness values above 0.66.\n",
    "\n",
    ">>> Instrumentalness demonstrates whether or not a track contains vocal content. For example, rap or spoken word tracks which are vocal take the value closer towards 0.0. Whereas, classical composers are more likely to the value approaching 1.0.\n",
    "\n",
    ">> (3) Context is either Liveness or Acousticness.\n",
    "\n",
    ">>> Liveness takes values from 0.0 to 1.0 which represents whether the track was performed live or was recorded. The closer the value approaches 1.0, the higher the possibility that the track was performed live.\n",
    "\n",
    ">>> Acousticness represents whether the track is acoustic. 1.0 represents high confidence the track is acoustic and mellow.\n",
    "\n",
    ">> There are also other recorded features of tracks including:\n",
    "\n",
    ">>> Mode takes boolean value of 0 and 1 which indicates the modality (major or minor) of a track. 1 represents major while 0 represents minor.\n",
    "\n",
    ">>> Key is the pitch that forms the basis of a song which uses standard Pitch Class notation. E.g. 0 = C, 1 = C♯/D♭, 2 = D, and so on. T12 keys are ranging from 0 to 11. Within Western music, there are 12 keys ranging from 0 to 11 which represents 12 basic musical tones respectively. Detail can be found in [this Wikipedia link](https://en.wikipedia.org/wiki/Pitch_class).\n",
    "\n",
    ">>> duration_ms is the length of the track in milliseconds.\n",
    "\n",
    ">>> time_signature measures how many beats are in each bar.\n",
    "\n",
    ">>> popularity indicates the number of times that the tracks are replayed and it gets the values between 0 and 100. For example, the most popular tracks get the value of 100."
   ]
  },
  {
   "cell_type": "markdown",
   "metadata": {},
   "source": [
    "<a id='wrangling'></a>\n",
    "## Data Wrangling\n",
    "\n",
    "> In this section of the report, we will load in the data, check for missing values, and then clean dataset for analysis. "
   ]
  },
  {
   "cell_type": "markdown",
   "metadata": {},
   "source": [
    "I. LOADING DATA"
   ]
  },
  {
   "cell_type": "code",
   "execution_count": 1,
   "metadata": {},
   "outputs": [],
   "source": [
    "# Import all of the necessary packages \n",
    "import pandas as pd \n",
    "import numpy as np\n",
    "import matplotlib.pyplot as plt\n",
    "import seaborn as sns\n",
    "%matplotlib inline\n",
    "\n",
    "# Read csv file\n",
    "df=pd.read_csv('Spotify_audio_features_Apr_2019.csv')"
   ]
  },
  {
   "cell_type": "code",
   "execution_count": 2,
   "metadata": {
    "scrolled": false,
    "slideshow": {
     "slide_type": "subslide"
    }
   },
   "outputs": [
    {
     "data": {
      "text/html": [
       "<div>\n",
       "<style scoped>\n",
       "    .dataframe tbody tr th:only-of-type {\n",
       "        vertical-align: middle;\n",
       "    }\n",
       "\n",
       "    .dataframe tbody tr th {\n",
       "        vertical-align: top;\n",
       "    }\n",
       "\n",
       "    .dataframe thead th {\n",
       "        text-align: right;\n",
       "    }\n",
       "</style>\n",
       "<table border=\"1\" class=\"dataframe\">\n",
       "  <thead>\n",
       "    <tr style=\"text-align: right;\">\n",
       "      <th></th>\n",
       "      <th>artist_name</th>\n",
       "      <th>track_id</th>\n",
       "      <th>track_name</th>\n",
       "      <th>acousticness</th>\n",
       "      <th>danceability</th>\n",
       "      <th>duration_ms</th>\n",
       "      <th>energy</th>\n",
       "      <th>instrumentalness</th>\n",
       "      <th>key</th>\n",
       "      <th>liveness</th>\n",
       "      <th>loudness</th>\n",
       "      <th>mode</th>\n",
       "      <th>speechiness</th>\n",
       "      <th>tempo</th>\n",
       "      <th>time_signature</th>\n",
       "      <th>valence</th>\n",
       "      <th>popularity</th>\n",
       "    </tr>\n",
       "  </thead>\n",
       "  <tbody>\n",
       "    <tr>\n",
       "      <td>0</td>\n",
       "      <td>YG</td>\n",
       "      <td>2RM4jf1Xa9zPgMGRDiht8O</td>\n",
       "      <td>Big Bank feat. 2 Chainz, Big Sean, Nicki Minaj</td>\n",
       "      <td>0.005820</td>\n",
       "      <td>0.743</td>\n",
       "      <td>238373</td>\n",
       "      <td>0.339</td>\n",
       "      <td>0.000</td>\n",
       "      <td>1</td>\n",
       "      <td>0.0812</td>\n",
       "      <td>-7.678</td>\n",
       "      <td>1</td>\n",
       "      <td>0.4090</td>\n",
       "      <td>203.927</td>\n",
       "      <td>4</td>\n",
       "      <td>0.118</td>\n",
       "      <td>15</td>\n",
       "    </tr>\n",
       "    <tr>\n",
       "      <td>1</td>\n",
       "      <td>YG</td>\n",
       "      <td>1tHDG53xJNGsItRA3vfVgs</td>\n",
       "      <td>BAND DRUM (feat. A$AP Rocky)</td>\n",
       "      <td>0.024400</td>\n",
       "      <td>0.846</td>\n",
       "      <td>214800</td>\n",
       "      <td>0.557</td>\n",
       "      <td>0.000</td>\n",
       "      <td>8</td>\n",
       "      <td>0.2860</td>\n",
       "      <td>-7.259</td>\n",
       "      <td>1</td>\n",
       "      <td>0.4570</td>\n",
       "      <td>159.009</td>\n",
       "      <td>4</td>\n",
       "      <td>0.371</td>\n",
       "      <td>0</td>\n",
       "    </tr>\n",
       "    <tr>\n",
       "      <td>2</td>\n",
       "      <td>R3HAB</td>\n",
       "      <td>6Wosx2euFPMT14UXiWudMy</td>\n",
       "      <td>Radio Silence</td>\n",
       "      <td>0.025000</td>\n",
       "      <td>0.603</td>\n",
       "      <td>138913</td>\n",
       "      <td>0.723</td>\n",
       "      <td>0.000</td>\n",
       "      <td>9</td>\n",
       "      <td>0.0824</td>\n",
       "      <td>-5.890</td>\n",
       "      <td>0</td>\n",
       "      <td>0.0454</td>\n",
       "      <td>114.966</td>\n",
       "      <td>4</td>\n",
       "      <td>0.382</td>\n",
       "      <td>56</td>\n",
       "    </tr>\n",
       "    <tr>\n",
       "      <td>3</td>\n",
       "      <td>Chris Cooq</td>\n",
       "      <td>3J2Jpw61sO7l6Hc7qdYV91</td>\n",
       "      <td>Lactose</td>\n",
       "      <td>0.029400</td>\n",
       "      <td>0.800</td>\n",
       "      <td>125381</td>\n",
       "      <td>0.579</td>\n",
       "      <td>0.912</td>\n",
       "      <td>5</td>\n",
       "      <td>0.0994</td>\n",
       "      <td>-12.118</td>\n",
       "      <td>0</td>\n",
       "      <td>0.0701</td>\n",
       "      <td>123.003</td>\n",
       "      <td>4</td>\n",
       "      <td>0.641</td>\n",
       "      <td>0</td>\n",
       "    </tr>\n",
       "    <tr>\n",
       "      <td>4</td>\n",
       "      <td>Chris Cooq</td>\n",
       "      <td>2jbYvQCyPgX3CdmAzeVeuS</td>\n",
       "      <td>Same - Original mix</td>\n",
       "      <td>0.000035</td>\n",
       "      <td>0.783</td>\n",
       "      <td>124016</td>\n",
       "      <td>0.792</td>\n",
       "      <td>0.878</td>\n",
       "      <td>7</td>\n",
       "      <td>0.0332</td>\n",
       "      <td>-10.277</td>\n",
       "      <td>1</td>\n",
       "      <td>0.0661</td>\n",
       "      <td>120.047</td>\n",
       "      <td>4</td>\n",
       "      <td>0.928</td>\n",
       "      <td>0</td>\n",
       "    </tr>\n",
       "  </tbody>\n",
       "</table>\n",
       "</div>"
      ],
      "text/plain": [
       "  artist_name                track_id  \\\n",
       "0          YG  2RM4jf1Xa9zPgMGRDiht8O   \n",
       "1          YG  1tHDG53xJNGsItRA3vfVgs   \n",
       "2       R3HAB  6Wosx2euFPMT14UXiWudMy   \n",
       "3  Chris Cooq  3J2Jpw61sO7l6Hc7qdYV91   \n",
       "4  Chris Cooq  2jbYvQCyPgX3CdmAzeVeuS   \n",
       "\n",
       "                                       track_name  acousticness  danceability  \\\n",
       "0  Big Bank feat. 2 Chainz, Big Sean, Nicki Minaj      0.005820         0.743   \n",
       "1                    BAND DRUM (feat. A$AP Rocky)      0.024400         0.846   \n",
       "2                                   Radio Silence      0.025000         0.603   \n",
       "3                                         Lactose      0.029400         0.800   \n",
       "4                             Same - Original mix      0.000035         0.783   \n",
       "\n",
       "   duration_ms  energy  instrumentalness  key  liveness  loudness  mode  \\\n",
       "0       238373   0.339             0.000    1    0.0812    -7.678     1   \n",
       "1       214800   0.557             0.000    8    0.2860    -7.259     1   \n",
       "2       138913   0.723             0.000    9    0.0824    -5.890     0   \n",
       "3       125381   0.579             0.912    5    0.0994   -12.118     0   \n",
       "4       124016   0.792             0.878    7    0.0332   -10.277     1   \n",
       "\n",
       "   speechiness    tempo  time_signature  valence  popularity  \n",
       "0       0.4090  203.927               4    0.118          15  \n",
       "1       0.4570  159.009               4    0.371           0  \n",
       "2       0.0454  114.966               4    0.382          56  \n",
       "3       0.0701  123.003               4    0.641           0  \n",
       "4       0.0661  120.047               4    0.928           0  "
      ]
     },
     "execution_count": 2,
     "metadata": {},
     "output_type": "execute_result"
    }
   ],
   "source": [
    "# Investigate how the first 5 rows of the dataset look like \n",
    "df.head()"
   ]
  },
  {
   "cell_type": "markdown",
   "metadata": {},
   "source": [
    "II. ASSESSING DATA"
   ]
  },
  {
   "cell_type": "code",
   "execution_count": 3,
   "metadata": {},
   "outputs": [
    {
     "data": {
      "text/plain": [
       "(130663, 17)"
      ]
     },
     "execution_count": 3,
     "metadata": {},
     "output_type": "execute_result"
    }
   ],
   "source": [
    "# Investigate number of observations and variables of the data frame\n",
    "df.shape"
   ]
  },
  {
   "cell_type": "markdown",
   "metadata": {},
   "source": [
    "> Dataset has 130663 rows and 17 columns."
   ]
  },
  {
   "cell_type": "code",
   "execution_count": 4,
   "metadata": {},
   "outputs": [
    {
     "data": {
      "text/plain": [
       "artist_name         0\n",
       "track_id            0\n",
       "track_name          0\n",
       "acousticness        0\n",
       "danceability        0\n",
       "duration_ms         0\n",
       "energy              0\n",
       "instrumentalness    0\n",
       "key                 0\n",
       "liveness            0\n",
       "loudness            0\n",
       "mode                0\n",
       "speechiness         0\n",
       "tempo               0\n",
       "time_signature      0\n",
       "valence             0\n",
       "popularity          0\n",
       "dtype: int64"
      ]
     },
     "execution_count": 4,
     "metadata": {},
     "output_type": "execute_result"
    }
   ],
   "source": [
    "# Check for missing values\n",
    "df.isnull().sum()"
   ]
  },
  {
   "cell_type": "markdown",
   "metadata": {},
   "source": [
    "> There are no missing values in the dataset."
   ]
  },
  {
   "cell_type": "code",
   "execution_count": 5,
   "metadata": {},
   "outputs": [
    {
     "data": {
      "text/plain": [
       "0"
      ]
     },
     "execution_count": 5,
     "metadata": {},
     "output_type": "execute_result"
    }
   ],
   "source": [
    "# Make sure there are no duplicated entries\n",
    "df.duplicated().sum()"
   ]
  },
  {
   "cell_type": "markdown",
   "metadata": {},
   "source": [
    "> This dataset does not have duplicated rows. "
   ]
  },
  {
   "cell_type": "code",
   "execution_count": 6,
   "metadata": {},
   "outputs": [
    {
     "data": {
      "text/plain": [
       "artist_name          object\n",
       "track_id             object\n",
       "track_name           object\n",
       "acousticness        float64\n",
       "danceability        float64\n",
       "duration_ms           int64\n",
       "energy              float64\n",
       "instrumentalness    float64\n",
       "key                   int64\n",
       "liveness            float64\n",
       "loudness            float64\n",
       "mode                  int64\n",
       "speechiness         float64\n",
       "tempo               float64\n",
       "time_signature        int64\n",
       "valence             float64\n",
       "popularity            int64\n",
       "dtype: object"
      ]
     },
     "execution_count": 6,
     "metadata": {},
     "output_type": "execute_result"
    }
   ],
   "source": [
    "# See if data is stored in the correct data form\n",
    "df.dtypes"
   ]
  },
  {
   "cell_type": "markdown",
   "metadata": {},
   "source": [
    "> Except artist names, track ids and track names which are defined as strings, other variables are stored as either float or interger. This setting of data types makes sense since each feature of the track is given a score to measure the different characteristics of that track respectively.\n",
    "\n",
    "> Except for mode type, it should be stored as a boolean with the value of either 0 or 1 instead of interger."
   ]
  },
  {
   "cell_type": "code",
   "execution_count": 7,
   "metadata": {},
   "outputs": [
    {
     "data": {
      "text/plain": [
       "artist_name          34621\n",
       "track_id            130326\n",
       "track_name          108879\n",
       "acousticness          4908\n",
       "danceability          1257\n",
       "duration_ms          77897\n",
       "energy                2571\n",
       "instrumentalness      5387\n",
       "key                     12\n",
       "liveness              1717\n",
       "loudness             25888\n",
       "mode                     2\n",
       "speechiness           1616\n",
       "tempo                57314\n",
       "time_signature           5\n",
       "valence               1918\n",
       "popularity             100\n",
       "dtype: int64"
      ]
     },
     "execution_count": 7,
     "metadata": {},
     "output_type": "execute_result"
    }
   ],
   "source": [
    "# Investigate the number of unique values for each variable\n",
    "df.nunique()"
   ]
  },
  {
   "cell_type": "markdown",
   "metadata": {},
   "source": [
    "> We can draw two interesting observations about our dataset from this output.\n",
    "\n",
    ">> Firstly, even though we have more than 130k observations in the dataset, we only have less than 35k artists. This indicates that many artists might produce more than one track. We will look deeper into the list of the most prolific artists in the next session of our analysis. \n",
    "\n",
    ">> Secondly, even though we have 130663 rows in total and there is no duplicated row, we only have 130326 and 108879 unique values for track_id and track_name respectively. This suggests that some rows have the same track ids. We need to investigate deeper into these rows to see what are the reasons behind and decide what we should do with those tracks with the same ids. "
   ]
  },
  {
   "cell_type": "code",
   "execution_count": 8,
   "metadata": {},
   "outputs": [
    {
     "data": {
      "text/plain": [
       "0UBafqn0HVWRceDnOv2SZu    4\n",
       "569BGSWQapYD8Niuy67Cal    3\n",
       "1afyMOxQCyfxUOSrCkStsy    3\n",
       "02mqJ3mpw8MLDmM2cqIVB9    3\n",
       "6eEVqkT1ZWHHzg08rfj7Uc    3\n",
       "                         ..\n",
       "3oCJJksC12uFxkt3RQ7rbV    2\n",
       "17uivGWu6kfAvH6UgR7j4x    2\n",
       "0NtYGyNUHAvdjI4nlYGRMw    2\n",
       "1viXLN4tBpoTOLOVZK9IJy    2\n",
       "3dkjQKhWBFPrAsoTNNGEzT    2\n",
       "Name: track_id, Length: 328, dtype: int64"
      ]
     },
     "execution_count": 8,
     "metadata": {},
     "output_type": "execute_result"
    }
   ],
   "source": [
    "# print out the values of track_ids that have theirs count greater than 1\n",
    "repeated_track_id = df['track_id'].value_counts().loc[lambda x : x>1] \n",
    "repeated_track_id"
   ]
  },
  {
   "cell_type": "code",
   "execution_count": 9,
   "metadata": {},
   "outputs": [
    {
     "name": "stdout",
     "output_type": "stream",
     "text": [
      "There are 665 rows with same track ids.\n"
     ]
    },
    {
     "data": {
      "text/html": [
       "<div>\n",
       "<style scoped>\n",
       "    .dataframe tbody tr th:only-of-type {\n",
       "        vertical-align: middle;\n",
       "    }\n",
       "\n",
       "    .dataframe tbody tr th {\n",
       "        vertical-align: top;\n",
       "    }\n",
       "\n",
       "    .dataframe thead th {\n",
       "        text-align: right;\n",
       "    }\n",
       "</style>\n",
       "<table border=\"1\" class=\"dataframe\">\n",
       "  <thead>\n",
       "    <tr style=\"text-align: right;\">\n",
       "      <th></th>\n",
       "      <th>artist_name</th>\n",
       "      <th>track_id</th>\n",
       "      <th>track_name</th>\n",
       "      <th>acousticness</th>\n",
       "      <th>danceability</th>\n",
       "      <th>duration_ms</th>\n",
       "      <th>energy</th>\n",
       "      <th>instrumentalness</th>\n",
       "      <th>key</th>\n",
       "      <th>liveness</th>\n",
       "      <th>loudness</th>\n",
       "      <th>mode</th>\n",
       "      <th>speechiness</th>\n",
       "      <th>tempo</th>\n",
       "      <th>time_signature</th>\n",
       "      <th>valence</th>\n",
       "      <th>popularity</th>\n",
       "    </tr>\n",
       "  </thead>\n",
       "  <tbody>\n",
       "    <tr>\n",
       "      <td>121309</td>\n",
       "      <td>Clean Bandit</td>\n",
       "      <td>02mqJ3mpw8MLDmM2cqIVB9</td>\n",
       "      <td>Baby (feat. Marina &amp; Luis Fonsi) - Luca Schrei...</td>\n",
       "      <td>0.28500</td>\n",
       "      <td>0.718</td>\n",
       "      <td>195147</td>\n",
       "      <td>0.735</td>\n",
       "      <td>0.000000</td>\n",
       "      <td>0</td>\n",
       "      <td>0.0545</td>\n",
       "      <td>-8.198</td>\n",
       "      <td>0</td>\n",
       "      <td>0.3530</td>\n",
       "      <td>122.969</td>\n",
       "      <td>4</td>\n",
       "      <td>0.336</td>\n",
       "      <td>55</td>\n",
       "    </tr>\n",
       "    <tr>\n",
       "      <td>94195</td>\n",
       "      <td>Clean Bandit</td>\n",
       "      <td>02mqJ3mpw8MLDmM2cqIVB9</td>\n",
       "      <td>Baby (feat. MARINA &amp; Luis Fonsi) - Luca Schrei...</td>\n",
       "      <td>0.28500</td>\n",
       "      <td>0.718</td>\n",
       "      <td>195147</td>\n",
       "      <td>0.735</td>\n",
       "      <td>0.000000</td>\n",
       "      <td>0</td>\n",
       "      <td>0.0545</td>\n",
       "      <td>-8.198</td>\n",
       "      <td>0</td>\n",
       "      <td>0.3530</td>\n",
       "      <td>122.969</td>\n",
       "      <td>4</td>\n",
       "      <td>0.336</td>\n",
       "      <td>55</td>\n",
       "    </tr>\n",
       "    <tr>\n",
       "      <td>119258</td>\n",
       "      <td>Clean Bandit</td>\n",
       "      <td>02mqJ3mpw8MLDmM2cqIVB9</td>\n",
       "      <td>Baby (feat. Marina and The Diamonds &amp; Luis Fon...</td>\n",
       "      <td>0.28500</td>\n",
       "      <td>0.718</td>\n",
       "      <td>195147</td>\n",
       "      <td>0.735</td>\n",
       "      <td>0.000000</td>\n",
       "      <td>0</td>\n",
       "      <td>0.0545</td>\n",
       "      <td>-8.198</td>\n",
       "      <td>0</td>\n",
       "      <td>0.3530</td>\n",
       "      <td>122.969</td>\n",
       "      <td>4</td>\n",
       "      <td>0.336</td>\n",
       "      <td>55</td>\n",
       "    </tr>\n",
       "    <tr>\n",
       "      <td>126535</td>\n",
       "      <td>Hillsong UNITED</td>\n",
       "      <td>03UNuZgtHViMboufVtawCa</td>\n",
       "      <td>Not Today</td>\n",
       "      <td>0.00236</td>\n",
       "      <td>0.580</td>\n",
       "      <td>253664</td>\n",
       "      <td>0.717</td>\n",
       "      <td>0.000014</td>\n",
       "      <td>2</td>\n",
       "      <td>0.1010</td>\n",
       "      <td>-8.014</td>\n",
       "      <td>1</td>\n",
       "      <td>0.0359</td>\n",
       "      <td>92.018</td>\n",
       "      <td>4</td>\n",
       "      <td>0.587</td>\n",
       "      <td>59</td>\n",
       "    </tr>\n",
       "    <tr>\n",
       "      <td>118079</td>\n",
       "      <td>Hillsong United</td>\n",
       "      <td>03UNuZgtHViMboufVtawCa</td>\n",
       "      <td>Not Today</td>\n",
       "      <td>0.00236</td>\n",
       "      <td>0.580</td>\n",
       "      <td>253664</td>\n",
       "      <td>0.717</td>\n",
       "      <td>0.000014</td>\n",
       "      <td>2</td>\n",
       "      <td>0.1010</td>\n",
       "      <td>-8.014</td>\n",
       "      <td>1</td>\n",
       "      <td>0.0359</td>\n",
       "      <td>92.018</td>\n",
       "      <td>4</td>\n",
       "      <td>0.587</td>\n",
       "      <td>59</td>\n",
       "    </tr>\n",
       "    <tr>\n",
       "      <td>...</td>\n",
       "      <td>...</td>\n",
       "      <td>...</td>\n",
       "      <td>...</td>\n",
       "      <td>...</td>\n",
       "      <td>...</td>\n",
       "      <td>...</td>\n",
       "      <td>...</td>\n",
       "      <td>...</td>\n",
       "      <td>...</td>\n",
       "      <td>...</td>\n",
       "      <td>...</td>\n",
       "      <td>...</td>\n",
       "      <td>...</td>\n",
       "      <td>...</td>\n",
       "      <td>...</td>\n",
       "      <td>...</td>\n",
       "      <td>...</td>\n",
       "    </tr>\n",
       "    <tr>\n",
       "      <td>123961</td>\n",
       "      <td>A$AP Rocky</td>\n",
       "      <td>7ycWLEP1GsNjVvcjawXz3z</td>\n",
       "      <td>Praise The Lord (Da Shine)</td>\n",
       "      <td>0.06090</td>\n",
       "      <td>0.850</td>\n",
       "      <td>205040</td>\n",
       "      <td>0.569</td>\n",
       "      <td>0.081600</td>\n",
       "      <td>5</td>\n",
       "      <td>0.1000</td>\n",
       "      <td>-8.152</td>\n",
       "      <td>0</td>\n",
       "      <td>0.1360</td>\n",
       "      <td>80.020</td>\n",
       "      <td>4</td>\n",
       "      <td>0.294</td>\n",
       "      <td>86</td>\n",
       "    </tr>\n",
       "    <tr>\n",
       "      <td>114143</td>\n",
       "      <td>Descemer Bueno</td>\n",
       "      <td>7yfha8TaN0DVNGp180Z5Zr</td>\n",
       "      <td>Nos Fuimos Lejos</td>\n",
       "      <td>0.16200</td>\n",
       "      <td>0.755</td>\n",
       "      <td>209360</td>\n",
       "      <td>0.880</td>\n",
       "      <td>0.000013</td>\n",
       "      <td>7</td>\n",
       "      <td>0.1320</td>\n",
       "      <td>-3.003</td>\n",
       "      <td>1</td>\n",
       "      <td>0.0605</td>\n",
       "      <td>94.022</td>\n",
       "      <td>4</td>\n",
       "      <td>0.812</td>\n",
       "      <td>60</td>\n",
       "    </tr>\n",
       "    <tr>\n",
       "      <td>130221</td>\n",
       "      <td>Descemer Bueno</td>\n",
       "      <td>7yfha8TaN0DVNGp180Z5Zr</td>\n",
       "      <td>Nos Fuimos Lejos (feat. El Micha)</td>\n",
       "      <td>0.16200</td>\n",
       "      <td>0.755</td>\n",
       "      <td>209360</td>\n",
       "      <td>0.880</td>\n",
       "      <td>0.000013</td>\n",
       "      <td>7</td>\n",
       "      <td>0.1320</td>\n",
       "      <td>-3.003</td>\n",
       "      <td>1</td>\n",
       "      <td>0.0605</td>\n",
       "      <td>94.022</td>\n",
       "      <td>4</td>\n",
       "      <td>0.812</td>\n",
       "      <td>60</td>\n",
       "    </tr>\n",
       "    <tr>\n",
       "      <td>128933</td>\n",
       "      <td>Teqkoi</td>\n",
       "      <td>7zlGyAsvNMOdhTU068f79f</td>\n",
       "      <td>Please Come Back</td>\n",
       "      <td>0.51000</td>\n",
       "      <td>0.737</td>\n",
       "      <td>121522</td>\n",
       "      <td>0.241</td>\n",
       "      <td>0.005720</td>\n",
       "      <td>9</td>\n",
       "      <td>0.1080</td>\n",
       "      <td>-16.034</td>\n",
       "      <td>0</td>\n",
       "      <td>0.0882</td>\n",
       "      <td>100.000</td>\n",
       "      <td>4</td>\n",
       "      <td>0.345</td>\n",
       "      <td>63</td>\n",
       "    </tr>\n",
       "    <tr>\n",
       "      <td>96970</td>\n",
       "      <td>Ondi Vil</td>\n",
       "      <td>7zlGyAsvNMOdhTU068f79f</td>\n",
       "      <td>Please Come Back</td>\n",
       "      <td>0.51000</td>\n",
       "      <td>0.737</td>\n",
       "      <td>121522</td>\n",
       "      <td>0.241</td>\n",
       "      <td>0.005720</td>\n",
       "      <td>9</td>\n",
       "      <td>0.1080</td>\n",
       "      <td>-16.034</td>\n",
       "      <td>0</td>\n",
       "      <td>0.0882</td>\n",
       "      <td>100.000</td>\n",
       "      <td>4</td>\n",
       "      <td>0.345</td>\n",
       "      <td>63</td>\n",
       "    </tr>\n",
       "  </tbody>\n",
       "</table>\n",
       "<p>665 rows × 17 columns</p>\n",
       "</div>"
      ],
      "text/plain": [
       "            artist_name                track_id  \\\n",
       "121309     Clean Bandit  02mqJ3mpw8MLDmM2cqIVB9   \n",
       "94195      Clean Bandit  02mqJ3mpw8MLDmM2cqIVB9   \n",
       "119258     Clean Bandit  02mqJ3mpw8MLDmM2cqIVB9   \n",
       "126535  Hillsong UNITED  03UNuZgtHViMboufVtawCa   \n",
       "118079  Hillsong United  03UNuZgtHViMboufVtawCa   \n",
       "...                 ...                     ...   \n",
       "123961       A$AP Rocky  7ycWLEP1GsNjVvcjawXz3z   \n",
       "114143   Descemer Bueno  7yfha8TaN0DVNGp180Z5Zr   \n",
       "130221   Descemer Bueno  7yfha8TaN0DVNGp180Z5Zr   \n",
       "128933           Teqkoi  7zlGyAsvNMOdhTU068f79f   \n",
       "96970          Ondi Vil  7zlGyAsvNMOdhTU068f79f   \n",
       "\n",
       "                                               track_name  acousticness  \\\n",
       "121309  Baby (feat. Marina & Luis Fonsi) - Luca Schrei...       0.28500   \n",
       "94195   Baby (feat. MARINA & Luis Fonsi) - Luca Schrei...       0.28500   \n",
       "119258  Baby (feat. Marina and The Diamonds & Luis Fon...       0.28500   \n",
       "126535                                          Not Today       0.00236   \n",
       "118079                                          Not Today       0.00236   \n",
       "...                                                   ...           ...   \n",
       "123961                         Praise The Lord (Da Shine)       0.06090   \n",
       "114143                                   Nos Fuimos Lejos       0.16200   \n",
       "130221                  Nos Fuimos Lejos (feat. El Micha)       0.16200   \n",
       "128933                                   Please Come Back       0.51000   \n",
       "96970                                    Please Come Back       0.51000   \n",
       "\n",
       "        danceability  duration_ms  energy  instrumentalness  key  liveness  \\\n",
       "121309         0.718       195147   0.735          0.000000    0    0.0545   \n",
       "94195          0.718       195147   0.735          0.000000    0    0.0545   \n",
       "119258         0.718       195147   0.735          0.000000    0    0.0545   \n",
       "126535         0.580       253664   0.717          0.000014    2    0.1010   \n",
       "118079         0.580       253664   0.717          0.000014    2    0.1010   \n",
       "...              ...          ...     ...               ...  ...       ...   \n",
       "123961         0.850       205040   0.569          0.081600    5    0.1000   \n",
       "114143         0.755       209360   0.880          0.000013    7    0.1320   \n",
       "130221         0.755       209360   0.880          0.000013    7    0.1320   \n",
       "128933         0.737       121522   0.241          0.005720    9    0.1080   \n",
       "96970          0.737       121522   0.241          0.005720    9    0.1080   \n",
       "\n",
       "        loudness  mode  speechiness    tempo  time_signature  valence  \\\n",
       "121309    -8.198     0       0.3530  122.969               4    0.336   \n",
       "94195     -8.198     0       0.3530  122.969               4    0.336   \n",
       "119258    -8.198     0       0.3530  122.969               4    0.336   \n",
       "126535    -8.014     1       0.0359   92.018               4    0.587   \n",
       "118079    -8.014     1       0.0359   92.018               4    0.587   \n",
       "...          ...   ...          ...      ...             ...      ...   \n",
       "123961    -8.152     0       0.1360   80.020               4    0.294   \n",
       "114143    -3.003     1       0.0605   94.022               4    0.812   \n",
       "130221    -3.003     1       0.0605   94.022               4    0.812   \n",
       "128933   -16.034     0       0.0882  100.000               4    0.345   \n",
       "96970    -16.034     0       0.0882  100.000               4    0.345   \n",
       "\n",
       "        popularity  \n",
       "121309          55  \n",
       "94195           55  \n",
       "119258          55  \n",
       "126535          59  \n",
       "118079          59  \n",
       "...            ...  \n",
       "123961          86  \n",
       "114143          60  \n",
       "130221          60  \n",
       "128933          63  \n",
       "96970           63  \n",
       "\n",
       "[665 rows x 17 columns]"
      ]
     },
     "execution_count": 9,
     "metadata": {},
     "output_type": "execute_result"
    }
   ],
   "source": [
    "# Check the characteristics of first 20 rows with the same track ids\n",
    "df_same_track_id=df.loc[df['track_id'].isin(repeated_track_id.index)].sort_values('track_id')\n",
    "print('There are ' + str(df_same_track_id.shape[0]) + ' rows with same track ids.')\n",
    "df_same_track_id"
   ]
  },
  {
   "cell_type": "markdown",
   "metadata": {},
   "source": [
    "> From the first observations of the dataset, we can recognize that there are many tracks with same ids recorded with different track names, even though they share exactly the same audio features and popular ratings.\n",
    "\n",
    "> This can be due to the fact that some tracks are recorded in both singles and albums but under different naming convention. So we can drops those duplicated observations to ensure that the same tracks recorded under different names are not recorded more than 1."
   ]
  },
  {
   "cell_type": "markdown",
   "metadata": {},
   "source": [
    "III. CLEANING DATA:\n",
    "\n",
    "### Drop tracks that have the same features but appear to have different names"
   ]
  },
  {
   "cell_type": "code",
   "execution_count": 10,
   "metadata": {},
   "outputs": [
    {
     "name": "stdout",
     "output_type": "stream",
     "text": [
      "There are 130436 rows after dropping.\n"
     ]
    }
   ],
   "source": [
    "# Drop duplicated row\n",
    "df.drop_duplicates(subset=['artist_name','track_id'],inplace=True)\n",
    "df.shape\n",
    "print('There are ' + str(df.shape[0]) + ' rows after dropping.')"
   ]
  },
  {
   "cell_type": "markdown",
   "metadata": {},
   "source": [
    "> There are 227 duplicated rows droped out since our dataset is reduced from 130663 to 130436 rows."
   ]
  },
  {
   "cell_type": "markdown",
   "metadata": {},
   "source": [
    "### Change mode feature to boolean data types"
   ]
  },
  {
   "cell_type": "code",
   "execution_count": 11,
   "metadata": {},
   "outputs": [
    {
     "data": {
      "text/plain": [
       "artist_name          object\n",
       "track_id             object\n",
       "track_name           object\n",
       "acousticness        float64\n",
       "danceability        float64\n",
       "duration_ms           int64\n",
       "energy              float64\n",
       "instrumentalness    float64\n",
       "key                   int64\n",
       "liveness            float64\n",
       "loudness            float64\n",
       "mode                   bool\n",
       "speechiness         float64\n",
       "tempo               float64\n",
       "time_signature        int64\n",
       "valence             float64\n",
       "popularity            int64\n",
       "dtype: object"
      ]
     },
     "execution_count": 11,
     "metadata": {},
     "output_type": "execute_result"
    }
   ],
   "source": [
    "# Change mode from float to boolean\n",
    "df['mode'] = df['mode'].astype('bool')\n",
    "# Recheck if the change is done\n",
    "df.dtypes"
   ]
  },
  {
   "cell_type": "markdown",
   "metadata": {},
   "source": [
    "> In the next session, we will explore data with the cleaned dataframe."
   ]
  },
  {
   "cell_type": "markdown",
   "metadata": {},
   "source": [
    "<a id='eda'></a>\n",
    "## Exploratory Data Analysis\n",
    "\n",
    "> In this section of the analysis process, we will find patterns in the variables, explore and visualize relationships in the data and create better features, also known as feature engineering. \n",
    "\n",
    "### I. Explore data distribution"
   ]
  },
  {
   "cell_type": "code",
   "execution_count": 12,
   "metadata": {
    "scrolled": true
   },
   "outputs": [
    {
     "data": {
      "text/html": [
       "<div>\n",
       "<style scoped>\n",
       "    .dataframe tbody tr th:only-of-type {\n",
       "        vertical-align: middle;\n",
       "    }\n",
       "\n",
       "    .dataframe tbody tr th {\n",
       "        vertical-align: top;\n",
       "    }\n",
       "\n",
       "    .dataframe thead th {\n",
       "        text-align: right;\n",
       "    }\n",
       "</style>\n",
       "<table border=\"1\" class=\"dataframe\">\n",
       "  <thead>\n",
       "    <tr style=\"text-align: right;\">\n",
       "      <th></th>\n",
       "      <th>acousticness</th>\n",
       "      <th>danceability</th>\n",
       "      <th>duration_ms</th>\n",
       "      <th>energy</th>\n",
       "      <th>instrumentalness</th>\n",
       "      <th>key</th>\n",
       "      <th>liveness</th>\n",
       "      <th>loudness</th>\n",
       "      <th>speechiness</th>\n",
       "      <th>tempo</th>\n",
       "      <th>time_signature</th>\n",
       "      <th>valence</th>\n",
       "      <th>popularity</th>\n",
       "    </tr>\n",
       "  </thead>\n",
       "  <tbody>\n",
       "    <tr>\n",
       "      <td>count</td>\n",
       "      <td>130436.000000</td>\n",
       "      <td>130436.000000</td>\n",
       "      <td>1.304360e+05</td>\n",
       "      <td>130436.000000</td>\n",
       "      <td>130436.000000</td>\n",
       "      <td>130436.000000</td>\n",
       "      <td>130436.000000</td>\n",
       "      <td>130436.000000</td>\n",
       "      <td>130436.000000</td>\n",
       "      <td>130436.000000</td>\n",
       "      <td>130436.000000</td>\n",
       "      <td>130436.000000</td>\n",
       "      <td>130436.000000</td>\n",
       "    </tr>\n",
       "    <tr>\n",
       "      <td>mean</td>\n",
       "      <td>0.342630</td>\n",
       "      <td>0.581381</td>\n",
       "      <td>2.126253e+05</td>\n",
       "      <td>0.569115</td>\n",
       "      <td>0.224309</td>\n",
       "      <td>5.232099</td>\n",
       "      <td>0.194894</td>\n",
       "      <td>-9.978268</td>\n",
       "      <td>0.111980</td>\n",
       "      <td>119.470548</td>\n",
       "      <td>3.878822</td>\n",
       "      <td>0.439624</td>\n",
       "      <td>24.156437</td>\n",
       "    </tr>\n",
       "    <tr>\n",
       "      <td>std</td>\n",
       "      <td>0.345690</td>\n",
       "      <td>0.190094</td>\n",
       "      <td>1.232371e+05</td>\n",
       "      <td>0.260355</td>\n",
       "      <td>0.360479</td>\n",
       "      <td>3.602735</td>\n",
       "      <td>0.167751</td>\n",
       "      <td>6.545846</td>\n",
       "      <td>0.124343</td>\n",
       "      <td>30.161034</td>\n",
       "      <td>0.514732</td>\n",
       "      <td>0.259114</td>\n",
       "      <td>19.676575</td>\n",
       "    </tr>\n",
       "    <tr>\n",
       "      <td>min</td>\n",
       "      <td>0.000000</td>\n",
       "      <td>0.000000</td>\n",
       "      <td>3.203000e+03</td>\n",
       "      <td>0.000000</td>\n",
       "      <td>0.000000</td>\n",
       "      <td>0.000000</td>\n",
       "      <td>0.000000</td>\n",
       "      <td>-60.000000</td>\n",
       "      <td>0.000000</td>\n",
       "      <td>0.000000</td>\n",
       "      <td>0.000000</td>\n",
       "      <td>0.000000</td>\n",
       "      <td>0.000000</td>\n",
       "    </tr>\n",
       "    <tr>\n",
       "      <td>25%</td>\n",
       "      <td>0.031575</td>\n",
       "      <td>0.459000</td>\n",
       "      <td>1.638800e+05</td>\n",
       "      <td>0.396000</td>\n",
       "      <td>0.000000</td>\n",
       "      <td>2.000000</td>\n",
       "      <td>0.097500</td>\n",
       "      <td>-11.903000</td>\n",
       "      <td>0.038900</td>\n",
       "      <td>96.013750</td>\n",
       "      <td>4.000000</td>\n",
       "      <td>0.224000</td>\n",
       "      <td>7.000000</td>\n",
       "    </tr>\n",
       "    <tr>\n",
       "      <td>50%</td>\n",
       "      <td>0.203000</td>\n",
       "      <td>0.605000</td>\n",
       "      <td>2.018930e+05</td>\n",
       "      <td>0.603000</td>\n",
       "      <td>0.000150</td>\n",
       "      <td>5.000000</td>\n",
       "      <td>0.124000</td>\n",
       "      <td>-7.983000</td>\n",
       "      <td>0.055800</td>\n",
       "      <td>120.026000</td>\n",
       "      <td>4.000000</td>\n",
       "      <td>0.420000</td>\n",
       "      <td>22.000000</td>\n",
       "    </tr>\n",
       "    <tr>\n",
       "      <td>75%</td>\n",
       "      <td>0.637000</td>\n",
       "      <td>0.727000</td>\n",
       "      <td>2.410320e+05</td>\n",
       "      <td>0.775000</td>\n",
       "      <td>0.443000</td>\n",
       "      <td>8.000000</td>\n",
       "      <td>0.236000</td>\n",
       "      <td>-5.686000</td>\n",
       "      <td>0.129000</td>\n",
       "      <td>139.632250</td>\n",
       "      <td>4.000000</td>\n",
       "      <td>0.638000</td>\n",
       "      <td>38.000000</td>\n",
       "    </tr>\n",
       "    <tr>\n",
       "      <td>max</td>\n",
       "      <td>0.996000</td>\n",
       "      <td>0.996000</td>\n",
       "      <td>5.610020e+06</td>\n",
       "      <td>1.000000</td>\n",
       "      <td>1.000000</td>\n",
       "      <td>11.000000</td>\n",
       "      <td>0.999000</td>\n",
       "      <td>1.806000</td>\n",
       "      <td>0.966000</td>\n",
       "      <td>249.983000</td>\n",
       "      <td>5.000000</td>\n",
       "      <td>1.000000</td>\n",
       "      <td>100.000000</td>\n",
       "    </tr>\n",
       "  </tbody>\n",
       "</table>\n",
       "</div>"
      ],
      "text/plain": [
       "        acousticness   danceability   duration_ms         energy  \\\n",
       "count  130436.000000  130436.000000  1.304360e+05  130436.000000   \n",
       "mean        0.342630       0.581381  2.126253e+05       0.569115   \n",
       "std         0.345690       0.190094  1.232371e+05       0.260355   \n",
       "min         0.000000       0.000000  3.203000e+03       0.000000   \n",
       "25%         0.031575       0.459000  1.638800e+05       0.396000   \n",
       "50%         0.203000       0.605000  2.018930e+05       0.603000   \n",
       "75%         0.637000       0.727000  2.410320e+05       0.775000   \n",
       "max         0.996000       0.996000  5.610020e+06       1.000000   \n",
       "\n",
       "       instrumentalness            key       liveness       loudness  \\\n",
       "count     130436.000000  130436.000000  130436.000000  130436.000000   \n",
       "mean           0.224309       5.232099       0.194894      -9.978268   \n",
       "std            0.360479       3.602735       0.167751       6.545846   \n",
       "min            0.000000       0.000000       0.000000     -60.000000   \n",
       "25%            0.000000       2.000000       0.097500     -11.903000   \n",
       "50%            0.000150       5.000000       0.124000      -7.983000   \n",
       "75%            0.443000       8.000000       0.236000      -5.686000   \n",
       "max            1.000000      11.000000       0.999000       1.806000   \n",
       "\n",
       "         speechiness          tempo  time_signature        valence  \\\n",
       "count  130436.000000  130436.000000   130436.000000  130436.000000   \n",
       "mean        0.111980     119.470548        3.878822       0.439624   \n",
       "std         0.124343      30.161034        0.514732       0.259114   \n",
       "min         0.000000       0.000000        0.000000       0.000000   \n",
       "25%         0.038900      96.013750        4.000000       0.224000   \n",
       "50%         0.055800     120.026000        4.000000       0.420000   \n",
       "75%         0.129000     139.632250        4.000000       0.638000   \n",
       "max         0.966000     249.983000        5.000000       1.000000   \n",
       "\n",
       "          popularity  \n",
       "count  130436.000000  \n",
       "mean       24.156437  \n",
       "std        19.676575  \n",
       "min         0.000000  \n",
       "25%         7.000000  \n",
       "50%        22.000000  \n",
       "75%        38.000000  \n",
       "max       100.000000  "
      ]
     },
     "execution_count": 12,
     "metadata": {},
     "output_type": "execute_result"
    }
   ],
   "source": [
    "# Quick glimse of numeric variable distributions\n",
    "df.describe()"
   ]
  },
  {
   "cell_type": "code",
   "execution_count": 12,
   "metadata": {
    "scrolled": false
   },
   "outputs": [
    {
     "data": {
      "image/png": "[encoded data removed]",
      "text/plain": [
       "<Figure size 1152x720 with 16 Axes>"
      ]
     },
     "metadata": {
      "needs_background": "light"
     },
     "output_type": "display_data"
    }
   ],
   "source": [
    "# Visual data distributions with histograms\n",
    "df.hist(figsize=(16,10),color='green');"
   ]
  },
  {
   "cell_type": "markdown",
   "metadata": {},
   "source": [
    "> Some quick observations of data distributions can be drawn from the above histograms as follows:\n",
    "\n",
    ">> (1) Regarding to tracks' mood characteristics, tempo seems to follow a normal distribution. Additionally, danceability and energy appear to be skewed left. This means that songs in the dataset have a tendency to be energetic and danceable.\n",
    "\n",
    ">> (2) > With regard to tracks' properties, while speechiness and instrumentalness are skewed right, loudness follows a skewed left distribution. This indicates that tracks have a higher likelihood to be music and other non-speech-like tracks and rather loud.  \n",
    "\n",
    ">> (3) In terms of context, more songs were recorded rather than performed live. And tracks on average are more electronic rather than acoustic genre. \n",
    "\n",
    ">> (3) The most used keys among 12 musical keys seem to be C and C♯. And major mode constitutes for approximately 60% of track's mode. \n",
    "\n",
    ">> (4) 75% of tracks in the dataset get popularity score equal or lower than 40. Only one forth of the total of tracks get score above 38. But there is also track that get maximum score of popularity.\n",
    "\n",
    ">> (5) Majority of tracks are distributed in range from 0 to 500000 miliseconds. Intuitively, minute is a more convinient measure to interpret track duration rather than milisecond. In the next step, we will conduct feature engineering to transform track length from miliseconds to minutes."
   ]
  },
  {
   "cell_type": "markdown",
   "metadata": {},
   "source": [
    "### II. Feature engineering"
   ]
  },
  {
   "cell_type": "code",
   "execution_count": 13,
   "metadata": {},
   "outputs": [
    {
     "name": "stdout",
     "output_type": "stream",
     "text": [
      "<class 'pandas.core.frame.DataFrame'>\n",
      "Int64Index: 130436 entries, 0 to 130662\n",
      "Data columns (total 19 columns):\n",
      "artist_name         130436 non-null object\n",
      "track_id            130436 non-null object\n",
      "track_name          130436 non-null object\n",
      "acousticness        130436 non-null float64\n",
      "danceability        130436 non-null float64\n",
      "duration_ms         130436 non-null int64\n",
      "energy              130436 non-null float64\n",
      "instrumentalness    130436 non-null float64\n",
      "key                 130436 non-null int64\n",
      "liveness            130436 non-null float64\n",
      "loudness            130436 non-null float64\n",
      "mode                130436 non-null bool\n",
      "speechiness         130436 non-null float64\n",
      "tempo               130436 non-null float64\n",
      "time_signature      130436 non-null int64\n",
      "valence             130436 non-null float64\n",
      "popularity          130436 non-null int64\n",
      "duration_minutes    130436 non-null float64\n",
      "duration            130436 non-null float64\n",
      "dtypes: bool(1), float64(11), int64(4), object(3)\n",
      "memory usage: 19.0+ MB\n"
     ]
    }
   ],
   "source": [
    "#  Add duration_minutes column\n",
    "df['duration_minutes']= df.duration_ms/60000\n",
    "df['duration']= df['duration_minutes'].round(2)\n",
    "\n",
    "#df.round({\"duration_minutes\":2})\n",
    "# Check if the new created field is added to the dataframe and have correct data type.\n",
    "df.info()"
   ]
  },
  {
   "cell_type": "code",
   "execution_count": 14,
   "metadata": {},
   "outputs": [
    {
     "data": {
      "text/plain": [
       "count    130436.000000\n",
       "mean          3.543756\n",
       "std           2.053956\n",
       "min           0.050000\n",
       "25%           2.730000\n",
       "50%           3.360000\n",
       "75%           4.020000\n",
       "max          93.500000\n",
       "Name: duration, dtype: float64"
      ]
     },
     "execution_count": 14,
     "metadata": {},
     "output_type": "execute_result"
    }
   ],
   "source": [
    "# Chek the distribution of track's duration in minutes\n",
    "df['duration'].describe()"
   ]
  },
  {
   "cell_type": "markdown",
   "metadata": {},
   "source": [
    "> On average, track duration is less than 4 minutes.\n",
    "\n",
    "> There is track with the duration higher than 90 minutes. We can take a closer look to those tracks that last longer than an hour to see what those tracks are."
   ]
  },
  {
   "cell_type": "code",
   "execution_count": 15,
   "metadata": {},
   "outputs": [
    {
     "name": "stdout",
     "output_type": "stream",
     "text": [
      "There are 19 tracks that are longer than 60 minutes.\n"
     ]
    }
   ],
   "source": [
    "# Query rows with track duration higher than 90 minutes. \n",
    "df_long=df.query('duration >=60').sort_values('duration',ascending=False)\n",
    "print('There are ' + str(df_long.shape[0]) + ' tracks that are longer than 60 minutes.')"
   ]
  },
  {
   "cell_type": "markdown",
   "metadata": {},
   "source": [
    "> I decide not to drop those rows but explore deeper on them in the next part of our analysis in order to understand more on features of these longest tracks.  "
   ]
  },
  {
   "cell_type": "markdown",
   "metadata": {},
   "source": [
    "### III. Research Question 1: Most popular artists and tracks \n",
    "#### Who are the Top 10 profilic artists"
   ]
  },
  {
   "cell_type": "code",
   "execution_count": 16,
   "metadata": {},
   "outputs": [
    {
     "data": {
      "text/html": [
       "<div>\n",
       "<style scoped>\n",
       "    .dataframe tbody tr th:only-of-type {\n",
       "        vertical-align: middle;\n",
       "    }\n",
       "\n",
       "    .dataframe tbody tr th {\n",
       "        vertical-align: top;\n",
       "    }\n",
       "\n",
       "    .dataframe thead th {\n",
       "        text-align: right;\n",
       "    }\n",
       "</style>\n",
       "<table border=\"1\" class=\"dataframe\">\n",
       "  <thead>\n",
       "    <tr style=\"text-align: right;\">\n",
       "      <th></th>\n",
       "      <th>track_name</th>\n",
       "    </tr>\n",
       "    <tr>\n",
       "      <th>artist_name</th>\n",
       "      <th></th>\n",
       "    </tr>\n",
       "  </thead>\n",
       "  <tbody>\n",
       "    <tr>\n",
       "      <td>Johann Sebastian Bach</td>\n",
       "      <td>3611</td>\n",
       "    </tr>\n",
       "    <tr>\n",
       "      <td>Wolfgang Amadeus Mozart</td>\n",
       "      <td>1751</td>\n",
       "    </tr>\n",
       "    <tr>\n",
       "      <td>Armin van Buuren</td>\n",
       "      <td>1124</td>\n",
       "    </tr>\n",
       "    <tr>\n",
       "      <td>Ludwig van Beethoven</td>\n",
       "      <td>928</td>\n",
       "    </tr>\n",
       "    <tr>\n",
       "      <td>Frédéric Chopin</td>\n",
       "      <td>614</td>\n",
       "    </tr>\n",
       "    <tr>\n",
       "      <td>Claude Debussy</td>\n",
       "      <td>451</td>\n",
       "    </tr>\n",
       "    <tr>\n",
       "      <td>Image Sounds</td>\n",
       "      <td>369</td>\n",
       "    </tr>\n",
       "    <tr>\n",
       "      <td>Waka Flocka Flame</td>\n",
       "      <td>273</td>\n",
       "    </tr>\n",
       "    <tr>\n",
       "      <td>Los Cadetes De Linares</td>\n",
       "      <td>266</td>\n",
       "    </tr>\n",
       "    <tr>\n",
       "      <td>Antonio Vivaldi</td>\n",
       "      <td>254</td>\n",
       "    </tr>\n",
       "  </tbody>\n",
       "</table>\n",
       "</div>"
      ],
      "text/plain": [
       "                         track_name\n",
       "artist_name                        \n",
       "Johann Sebastian Bach          3611\n",
       "Wolfgang Amadeus Mozart        1751\n",
       "Armin van Buuren               1124\n",
       "Ludwig van Beethoven            928\n",
       "Frédéric Chopin                 614\n",
       "Claude Debussy                  451\n",
       "Image Sounds                    369\n",
       "Waka Flocka Flame               273\n",
       "Los Cadetes De Linares          266\n",
       "Antonio Vivaldi                 254"
      ]
     },
     "execution_count": 16,
     "metadata": {},
     "output_type": "execute_result"
    }
   ],
   "source": [
    "# Top 10 artists who produce highest number of tracks\n",
    "df[['artist_name','track_name']].groupby('artist_name').count().sort_values('track_name', ascending=False).head(10)"
   ]
  },
  {
   "cell_type": "code",
   "execution_count": 17,
   "metadata": {},
   "outputs": [
    {
     "data": {
      "image/png": "[encoded data removed]",
      "text/plain": [
       "<Figure size 432x288 with 1 Axes>"
      ]
     },
     "metadata": {
      "needs_background": "light"
     },
     "output_type": "display_data"
    }
   ],
   "source": [
    "# Visualize the percentage of the top 10 prolific artists by chart\n",
    "artist_order = df.groupby(\"artist_name\")[\"track_id\"].count().sort_values(ascending=False).head(10)\n",
    "base_color = sns.color_palette()[2]\n",
    "ax = sns.countplot(data=df, y='artist_name', color=base_color, order=artist_order.index)\n",
    "plt.title(\"The percentage of audio tracks produced by the 10 most prolific artists\")\n",
    "plt.xlabel(\"Number of audio tracks\")\n",
    "# Print the percentage value on the chart\n",
    "total = len(df) \n",
    "for p in ax.patches:\n",
    "    percentage = '{:.1f}%'.format(p.get_width() / total * 100)\n",
    "    x = p.get_x() + p.get_width() + 0.02\n",
    "    y = p.get_y() + p.get_height() / 2\n",
    "    ax.annotate(percentage, (x, y))    \n",
    "plt.show()"
   ]
  },
  {
   "cell_type": "markdown",
   "metadata": {},
   "source": [
    "> Interestingly, 6 out of 10 most productive artists are one of the most best-known composers of classical music of all time. The rest 4 artists in the chart represents for electronic music, rap and ballad respectively. "
   ]
  },
  {
   "cell_type": "markdown",
   "metadata": {},
   "source": [
    "#### Which artists and tracks are on Spotify Top by popularity score in the spring of 2019?"
   ]
  },
  {
   "cell_type": "code",
   "execution_count": 18,
   "metadata": {},
   "outputs": [
    {
     "data": {
      "text/html": [
       "<div>\n",
       "<style scoped>\n",
       "    .dataframe tbody tr th:only-of-type {\n",
       "        vertical-align: middle;\n",
       "    }\n",
       "\n",
       "    .dataframe tbody tr th {\n",
       "        vertical-align: top;\n",
       "    }\n",
       "\n",
       "    .dataframe thead th {\n",
       "        text-align: right;\n",
       "    }\n",
       "</style>\n",
       "<table border=\"1\" class=\"dataframe\">\n",
       "  <thead>\n",
       "    <tr style=\"text-align: right;\">\n",
       "      <th></th>\n",
       "      <th>artist_name</th>\n",
       "      <th>track_name</th>\n",
       "      <th>popularity</th>\n",
       "    </tr>\n",
       "  </thead>\n",
       "  <tbody>\n",
       "    <tr>\n",
       "      <td>99393</td>\n",
       "      <td>Daddy Yankee</td>\n",
       "      <td>Con Calma</td>\n",
       "      <td>100</td>\n",
       "    </tr>\n",
       "    <tr>\n",
       "      <td>99364</td>\n",
       "      <td>Post Malone</td>\n",
       "      <td>Wow.</td>\n",
       "      <td>98</td>\n",
       "    </tr>\n",
       "    <tr>\n",
       "      <td>123909</td>\n",
       "      <td>Post Malone</td>\n",
       "      <td>Sunflower - Spider-Man: Into the Spider-Verse</td>\n",
       "      <td>98</td>\n",
       "    </tr>\n",
       "    <tr>\n",
       "      <td>99366</td>\n",
       "      <td>Jonas Brothers</td>\n",
       "      <td>Sucker</td>\n",
       "      <td>98</td>\n",
       "    </tr>\n",
       "    <tr>\n",
       "      <td>99368</td>\n",
       "      <td>Billie Eilish</td>\n",
       "      <td>bad guy</td>\n",
       "      <td>98</td>\n",
       "    </tr>\n",
       "    <tr>\n",
       "      <td>99365</td>\n",
       "      <td>Ariana Grande</td>\n",
       "      <td>break up with your girlfriend, i'm bored</td>\n",
       "      <td>97</td>\n",
       "    </tr>\n",
       "    <tr>\n",
       "      <td>99372</td>\n",
       "      <td>Ariana Grande</td>\n",
       "      <td>7 rings</td>\n",
       "      <td>96</td>\n",
       "    </tr>\n",
       "    <tr>\n",
       "      <td>123941</td>\n",
       "      <td>Ava Max</td>\n",
       "      <td>Sweet but Psycho</td>\n",
       "      <td>96</td>\n",
       "    </tr>\n",
       "    <tr>\n",
       "      <td>123879</td>\n",
       "      <td>Marshmello</td>\n",
       "      <td>Happier</td>\n",
       "      <td>96</td>\n",
       "    </tr>\n",
       "    <tr>\n",
       "      <td>123873</td>\n",
       "      <td>Halsey</td>\n",
       "      <td>Without Me</td>\n",
       "      <td>96</td>\n",
       "    </tr>\n",
       "    <tr>\n",
       "      <td>99375</td>\n",
       "      <td>Sam Smith</td>\n",
       "      <td>Dancing With A Stranger (with Normani)</td>\n",
       "      <td>96</td>\n",
       "    </tr>\n",
       "    <tr>\n",
       "      <td>124340</td>\n",
       "      <td>Pedro Capó</td>\n",
       "      <td>Calma - Remix</td>\n",
       "      <td>96</td>\n",
       "    </tr>\n",
       "    <tr>\n",
       "      <td>124042</td>\n",
       "      <td>Lady Gaga</td>\n",
       "      <td>Shallow</td>\n",
       "      <td>96</td>\n",
       "    </tr>\n",
       "    <tr>\n",
       "      <td>101634</td>\n",
       "      <td>Mabel</td>\n",
       "      <td>Don't Call Me Up</td>\n",
       "      <td>95</td>\n",
       "    </tr>\n",
       "    <tr>\n",
       "      <td>101609</td>\n",
       "      <td>Ozuna</td>\n",
       "      <td>Baila Baila Baila</td>\n",
       "      <td>95</td>\n",
       "    </tr>\n",
       "    <tr>\n",
       "      <td>101610</td>\n",
       "      <td>Anuel Aa</td>\n",
       "      <td>Secreto</td>\n",
       "      <td>95</td>\n",
       "    </tr>\n",
       "    <tr>\n",
       "      <td>99363</td>\n",
       "      <td>J. Cole</td>\n",
       "      <td>MIDDLE CHILD</td>\n",
       "      <td>95</td>\n",
       "    </tr>\n",
       "    <tr>\n",
       "      <td>99382</td>\n",
       "      <td>Lauv</td>\n",
       "      <td>i'm so tired...</td>\n",
       "      <td>95</td>\n",
       "    </tr>\n",
       "    <tr>\n",
       "      <td>99367</td>\n",
       "      <td>Lil Nas X</td>\n",
       "      <td>Old Town Road</td>\n",
       "      <td>95</td>\n",
       "    </tr>\n",
       "    <tr>\n",
       "      <td>101672</td>\n",
       "      <td>Calvin Harris</td>\n",
       "      <td>Giant (with Rag'n'Bone Man)</td>\n",
       "      <td>94</td>\n",
       "    </tr>\n",
       "  </tbody>\n",
       "</table>\n",
       "</div>"
      ],
      "text/plain": [
       "           artist_name                                     track_name  \\\n",
       "99393     Daddy Yankee                                      Con Calma   \n",
       "99364      Post Malone                                           Wow.   \n",
       "123909     Post Malone  Sunflower - Spider-Man: Into the Spider-Verse   \n",
       "99366   Jonas Brothers                                         Sucker   \n",
       "99368    Billie Eilish                                        bad guy   \n",
       "99365    Ariana Grande       break up with your girlfriend, i'm bored   \n",
       "99372    Ariana Grande                                        7 rings   \n",
       "123941         Ava Max                               Sweet but Psycho   \n",
       "123879      Marshmello                                        Happier   \n",
       "123873          Halsey                                     Without Me   \n",
       "99375        Sam Smith         Dancing With A Stranger (with Normani)   \n",
       "124340      Pedro Capó                                  Calma - Remix   \n",
       "124042       Lady Gaga                                        Shallow   \n",
       "101634           Mabel                               Don't Call Me Up   \n",
       "101609           Ozuna                              Baila Baila Baila   \n",
       "101610        Anuel Aa                                        Secreto   \n",
       "99363          J. Cole                                   MIDDLE CHILD   \n",
       "99382             Lauv                                i'm so tired...   \n",
       "99367        Lil Nas X                                  Old Town Road   \n",
       "101672   Calvin Harris                    Giant (with Rag'n'Bone Man)   \n",
       "\n",
       "        popularity  \n",
       "99393          100  \n",
       "99364           98  \n",
       "123909          98  \n",
       "99366           98  \n",
       "99368           98  \n",
       "99365           97  \n",
       "99372           96  \n",
       "123941          96  \n",
       "123879          96  \n",
       "123873          96  \n",
       "99375           96  \n",
       "124340          96  \n",
       "124042          96  \n",
       "101634          95  \n",
       "101609          95  \n",
       "101610          95  \n",
       "99363           95  \n",
       "99382           95  \n",
       "99367           95  \n",
       "101672          94  "
      ]
     },
     "execution_count": 18,
     "metadata": {},
     "output_type": "execute_result"
    }
   ],
   "source": [
    "# top 100 songs by popularity\n",
    "top_100_song = df.sort_values('popularity',ascending=False).head(100)\n",
    "\n",
    "# show the result of top 20 most popular songs\n",
    "top_100_song[['artist_name', 'track_name', 'popularity']].head(20)"
   ]
  },
  {
   "cell_type": "markdown",
   "metadata": {},
   "source": [
    "> Daddy Yankee- a hit-after-hit artist is the only one who gets the perfect 100 score with his song 'Con Calma' collaborated with Canadian rapper Snow. The song has surpassed 2 billion views on Youtube by 2020."
   ]
  },
  {
   "cell_type": "code",
   "execution_count": 19,
   "metadata": {},
   "outputs": [
    {
     "data": {
      "text/html": [
       "<div>\n",
       "<style scoped>\n",
       "    .dataframe tbody tr th:only-of-type {\n",
       "        vertical-align: middle;\n",
       "    }\n",
       "\n",
       "    .dataframe tbody tr th {\n",
       "        vertical-align: top;\n",
       "    }\n",
       "\n",
       "    .dataframe thead th {\n",
       "        text-align: right;\n",
       "    }\n",
       "</style>\n",
       "<table border=\"1\" class=\"dataframe\">\n",
       "  <thead>\n",
       "    <tr style=\"text-align: right;\">\n",
       "      <th></th>\n",
       "      <th>track_name</th>\n",
       "    </tr>\n",
       "    <tr>\n",
       "      <th>artist_name</th>\n",
       "      <th></th>\n",
       "    </tr>\n",
       "  </thead>\n",
       "  <tbody>\n",
       "    <tr>\n",
       "      <td>Billie Eilish</td>\n",
       "      <td>11</td>\n",
       "    </tr>\n",
       "    <tr>\n",
       "      <td>Post Malone</td>\n",
       "      <td>4</td>\n",
       "    </tr>\n",
       "    <tr>\n",
       "      <td>Ariana Grande</td>\n",
       "      <td>4</td>\n",
       "    </tr>\n",
       "    <tr>\n",
       "      <td>Khalid</td>\n",
       "      <td>4</td>\n",
       "    </tr>\n",
       "    <tr>\n",
       "      <td>Drake</td>\n",
       "      <td>3</td>\n",
       "    </tr>\n",
       "    <tr>\n",
       "      <td>Calvin Harris</td>\n",
       "      <td>3</td>\n",
       "    </tr>\n",
       "    <tr>\n",
       "      <td>Cardi B</td>\n",
       "      <td>3</td>\n",
       "    </tr>\n",
       "    <tr>\n",
       "      <td>Lady Gaga</td>\n",
       "      <td>2</td>\n",
       "    </tr>\n",
       "    <tr>\n",
       "      <td>Daddy Yankee</td>\n",
       "      <td>2</td>\n",
       "    </tr>\n",
       "    <tr>\n",
       "      <td>YNW Melly</td>\n",
       "      <td>2</td>\n",
       "    </tr>\n",
       "  </tbody>\n",
       "</table>\n",
       "</div>"
      ],
      "text/plain": [
       "               track_name\n",
       "artist_name              \n",
       "Billie Eilish          11\n",
       "Post Malone             4\n",
       "Ariana Grande           4\n",
       "Khalid                  4\n",
       "Drake                   3\n",
       "Calvin Harris           3\n",
       "Cardi B                 3\n",
       "Lady Gaga               2\n",
       "Daddy Yankee            2\n",
       "YNW Melly               2"
      ]
     },
     "execution_count": 19,
     "metadata": {},
     "output_type": "execute_result"
    }
   ],
   "source": [
    "# show top 10 artists who have dominated the Spotify charts with the most popular songs during the beginning of 2019\n",
    "top_100_song[['artist_name','track_name']].groupby('artist_name').count().sort_values('track_name', ascending=False).head(10)"
   ]
  },
  {
   "cell_type": "markdown",
   "metadata": {},
   "source": [
    "> Billie Eilish has 11 records which is the highest number of songs in the top 100 most popular tracks. Post Malone, Ariana Grande and Khalid come second with 4 tracks each. "
   ]
  },
  {
   "cell_type": "markdown",
   "metadata": {},
   "source": [
    "### IV. Research Question 2: Which are the charateristics of the most popular songs in the spring of 2019? And how are the most popular songs different from the rest of songs?\n",
    "\n",
    "\n",
    "#### Research Question 2.1. A deep look at musical key feature of audio tracks\n",
    "\n",
    "#####  Get dataframe of top 5% of the most popular tracks "
   ]
  },
  {
   "cell_type": "code",
   "execution_count": 20,
   "metadata": {},
   "outputs": [
    {
     "data": {
      "text/plain": [
       "0.90    53.0\n",
       "0.95    60.0\n",
       "Name: popularity, dtype: float64"
      ]
     },
     "execution_count": 20,
     "metadata": {},
     "output_type": "execute_result"
    }
   ],
   "source": [
    "# Get the popularity score at the 95th percentile\n",
    "df['popularity'].quantile([.9, .95])"
   ]
  },
  {
   "cell_type": "code",
   "execution_count": 21,
   "metadata": {},
   "outputs": [
    {
     "name": "stdout",
     "output_type": "stream",
     "text": [
      "There are 7105 tracks (equivalent to 5% of the total tracks) that have popularity score at or higher than 60\n"
     ]
    }
   ],
   "source": [
    "# Find the number of tracks on top 5% in terms of popularity\n",
    "print ('There are ' + str(df.query('popularity >=60').shape[0])+ ' tracks (equivalent to 5% of the total tracks) that have popularity score at or higher than 60') "
   ]
  },
  {
   "cell_type": "code",
   "execution_count": 22,
   "metadata": {},
   "outputs": [],
   "source": [
    "# Create the dataframe for top 5% of the most popular songs\n",
    "top_pop_song=df.query('popularity>=60')"
   ]
  },
  {
   "cell_type": "markdown",
   "metadata": {},
   "source": [
    "##### Get dataframe of the rest of the tracks "
   ]
  },
  {
   "cell_type": "code",
   "execution_count": 23,
   "metadata": {},
   "outputs": [],
   "source": [
    "# Query tracks whose popularity are below 60\n",
    "rest_data=df.query('popularity<60')"
   ]
  },
  {
   "cell_type": "code",
   "execution_count": 24,
   "metadata": {},
   "outputs": [
    {
     "data": {
      "text/plain": [
       "True"
      ]
     },
     "execution_count": 24,
     "metadata": {},
     "output_type": "execute_result"
    }
   ],
   "source": [
    "# Check to make sure the total number of rows of two new created datasets equals the number of rows in the original cleaned dataframe, which has 130436 rows.\n",
    "num_rows=df.shape[0]\n",
    "num_rows==top_pop_song['popularity'].count()+rest_data['popularity'].count()"
   ]
  },
  {
   "cell_type": "markdown",
   "metadata": {},
   "source": [
    "##### Is there any variation in the musical key usage between the most popular tracks and the less popular tracks? \n",
    "\n",
    "###### Create the chart depicting the frequency of musical keys played in the most popular tracks"
   ]
  },
  {
   "cell_type": "code",
   "execution_count": 25,
   "metadata": {},
   "outputs": [
    {
     "data": {
      "image/png": "[encoded data removed]",
      "text/plain": [
       "<Figure size 432x288 with 1 Axes>"
      ]
     },
     "metadata": {
      "needs_background": "light"
     },
     "output_type": "display_data"
    }
   ],
   "source": [
    "# Get key in descending order of frequency\n",
    "key_top_song = top_pop_song.groupby(\"key\")[\"track_name\"].count().sort_values(ascending=False)\n",
    "order=key_top_song.index\n",
    "\n",
    "# Draw bar chart for key using seaborn\n",
    "ax = sns.countplot(data=top_pop_song, y='key', color=base_color, order=key_top_song.index)\n",
    "plt.title(\"Number of audio tracks by key (used by the most popular songs)\")\n",
    "plt.xlabel(\"Number of audio tracks\")\n",
    "\n",
    "# Print the percentage value on the chart\n",
    "total = len(top_pop_song)\n",
    "for p in ax.patches:\n",
    "    percentage = '{:.1f}%'.format(p.get_width() / total * 100)\n",
    "    x = p.get_x() + p.get_width() + 0.02\n",
    "    y = p.get_y() + p.get_height() / 2\n",
    "    ax.annotate(percentage, (x, y))    \n",
    "plt.show()"
   ]
  },
  {
   "cell_type": "markdown",
   "metadata": {},
   "source": [
    "> As shown by chart, out of all keys available, key 1, 0, and 7 (equivalent to C Minor, C Major, and G Major) are the most popular musical keys played by top 5% of the most popular songs. They accounted for 13.2%, 11.1% and 9.1% of songs respectively. Whereas, D Minor is the least used key among popular tracks.\n",
    "\n",
    "> We will see how this result varies when it comes to the rest of songs."
   ]
  },
  {
   "cell_type": "code",
   "execution_count": 26,
   "metadata": {},
   "outputs": [
    {
     "data": {
      "image/png": "[encoded data removed]",
      "text/plain": [
       "<Figure size 432x288 with 1 Axes>"
      ]
     },
     "metadata": {
      "needs_background": "light"
     },
     "output_type": "display_data"
    }
   ],
   "source": [
    "# Get the same chart above but converting keys in number format into musical terms for easier interpretation \n",
    "key_top_song = top_pop_song.groupby(\"key\")[\"track_name\"].count().sort_values(ascending=False)\n",
    "order=key_top_song.index\n",
    "ax = sns.countplot(data=top_pop_song, y='key', color=base_color, order=key_top_song.index)\n",
    "\n",
    "# Convert y tick labels into music terminology manually based on the order from previous chart\n",
    "ax.set_yticklabels(['C♯(Do)','C','G(Sol)','B(Si)','F(Fa)','D(Re)','F♯','A(La)','G♯','A♯','E(Mi)','D♯'],size = 12)\n",
    "plt.title(\"Number of audio tracks by key (used by the most popular songs)\",size=15)\n",
    "plt.xlabel(\"Number of audio tracks\")\n",
    "\n",
    "# Print the percentage value on the chart\n",
    "total = len(top_pop_song)\n",
    "for p in ax.patches:\n",
    "    percentage = '{:.1f}%'.format(p.get_width() / total * 100)\n",
    "    x = p.get_x() + p.get_width() + 0.02\n",
    "    y = p.get_y() + p.get_height() / 2\n",
    "    ax.annotate(percentage, (x, y))    \n",
    "plt.show()"
   ]
  },
  {
   "cell_type": "markdown",
   "metadata": {},
   "source": [
    "###### Create the similar chart for the rest of tracks to see if there is any dissimilarity in keys used compared to the most popular songs"
   ]
  },
  {
   "cell_type": "code",
   "execution_count": 27,
   "metadata": {},
   "outputs": [
    {
     "data": {
      "image/png": "[encoded data removed]",
      "text/plain": [
       "<Figure size 432x288 with 1 Axes>"
      ]
     },
     "metadata": {
      "needs_background": "light"
     },
     "output_type": "display_data"
    }
   ],
   "source": [
    "# Geeting key used in the rest of the song dataframe in descending order\n",
    "key_rest_song = rest_data.groupby(\"key\")[\"track_name\"].count().sort_values(ascending=False)\n",
    "\n",
    "# Plot the bar chart to count the number and percentage of songs group by key\n",
    "ax = sns.countplot(data=rest_data, y='key', color=base_color, order=key_rest_song.index)\n",
    "\n",
    "plt.title(\"Number of audio tracks by key (used by the rest of less popular songs)\")\n",
    "plt.xlabel(\"Number of audio tracks\")\n",
    "# Print the percentage value on the chart\n",
    "total = len(rest_data)\n",
    "for p in ax.patches:\n",
    "    percentage = '{:.1f}%'.format(p.get_width() / total * 100)\n",
    "    x = p.get_x() + p.get_width() + 0.02\n",
    "    y = p.get_y() + p.get_height() / 2\n",
    "    ax.annotate(percentage, (x, y))    \n",
    "plt.show()"
   ]
  },
  {
   "cell_type": "markdown",
   "metadata": {},
   "source": [
    "> Interestingly, C Minor, C Major and G Major also dominate other keys in the unpopular tracks. This finding seems to strengthen [one of Spotify analysis on 30 million songs in 2015](https://www.hypebot.com/hypebot/2015/05/the-most-popular-keys-of-all-music-on-spotify.html) which also finds out that G Major and C Major predominate over other keys. They pointed out the main reason is because G Major is the most convenient and easiest key to play around on both piano and guitar. With regard to C Major, it is the easiest to play on piano, which is also the greatest choice for piano composers. \n",
    "\n",
    "> Needless to say, piano and guitar are the two most popular instruments with Weastern comtemporary musicians who have contributed a lot of tracks on Spotify. By choosing these two keys, musicians can devote more of their time and energy on the more complicated song factors such as lyrics or melody. \n",
    "\n",
    "> Additionally, the result from both charts also suggests that major keys which represent more cheerful sounding vibes are prefered by 1.7 times more than minor keys. This supports the histogram distribution of mode feature in the previous session, which indicates that two thirds of songs are recorded with major mode. "
   ]
  },
  {
   "cell_type": "code",
   "execution_count": 28,
   "metadata": {},
   "outputs": [
    {
     "data": {
      "image/png": "[encoded data removed]",
      "text/plain": [
       "<Figure size 432x288 with 1 Axes>"
      ]
     },
     "metadata": {
      "needs_background": "light"
     },
     "output_type": "display_data"
    }
   ],
   "source": [
    "# Get the same chart above but converting keys in number format into musical terms for easier interpretation \n",
    "key_rest_data = rest_data.groupby(\"key\")[\"track_name\"].count().sort_values(ascending=False)\n",
    "order=key_rest_data.index\n",
    "ax = sns.countplot(data=rest_data, y='key', color=base_color, order=key_rest_data.index)\n",
    "\n",
    "# Convert y tick labels into music terminology manually based on the order from previous chart\n",
    "ax.set_yticklabels(['C♯(Do)','C','G(Sol)','D(Re)','A(La)','F(Fa)','B(Si)','(A♯)','G♯','E(Mi)','F♯','D♯'],size = 12)\n",
    "plt.title(\"Number of audio tracks by key (used by the rest of non-popular songs)\",size=15)\n",
    "plt.xlabel(\"Number of audio tracks\")\n",
    "\n",
    "# Print the percentage value on the chart\n",
    "total = len(rest_data)\n",
    "for p in ax.patches:\n",
    "    percentage = '{:.1f}%'.format(p.get_width() / total * 100)\n",
    "    x = p.get_x() + p.get_width() + 0.02\n",
    "    y = p.get_y() + p.get_height() / 2\n",
    "    ax.annotate(percentage, (x, y))    \n",
    "plt.show()"
   ]
  },
  {
   "cell_type": "markdown",
   "metadata": {},
   "source": [
    "#### Research Question 2.2. Deep dive in mood, property and context  feature of audio tracks"
   ]
  },
  {
   "cell_type": "markdown",
   "metadata": {},
   "source": [
    "> We will use radar chart to visualize the mean values of audio feautures for two datasets, top popular songs and not top songs to compare how their features are different. "
   ]
  },
  {
   "cell_type": "code",
   "execution_count": 29,
   "metadata": {},
   "outputs": [
    {
     "name": "stdout",
     "output_type": "stream",
     "text": [
      "Mean value of danceability of no top songs and top songs are 0.58 and  0.65 respectively \n",
      "\n",
      "Mean value of valence of no top songs and top songs are 0.44 and  0.46 respectively \n",
      "\n",
      "Mean value of energy of no top songs and top songs are 0.57 and  0.6 respectively \n",
      "\n",
      "Mean value of instrumentalness of no top songs and top songs are 0.23 and  0.08 respectively \n",
      "\n",
      "Mean value of speechiness of no top songs and top songs are 0.11 and  0.12 respectively \n",
      "\n",
      "Mean value of liveness of no top songs and top songs are 0.2 and  0.17 respectively \n",
      "\n",
      "Mean value of acousticness of no top songs and top songs are 0.35 and  0.29 respectively \n",
      "\n"
     ]
    }
   ],
   "source": [
    "# Take mean values of audio features from both top and no top track datasets\n",
    "\n",
    "print ('Mean value of danceability of no top songs and top songs are '+str(round(rest_data['danceability'].mean(),2))+ ' and  ' + str(round(top_pop_song['danceability'].mean(),2))+ ' respectively \\n')\n",
    "\n",
    "print ('Mean value of valence of no top songs and top songs are '+str(round(rest_data['valence'].mean(),2))+ ' and  ' + str(round(top_pop_song['valence'].mean(),2))+ ' respectively \\n')\n",
    "\n",
    "print ('Mean value of energy of no top songs and top songs are '+str(round(rest_data['energy'].mean(),2))+ ' and  ' + str(round(top_pop_song['energy'].mean(),2))+ ' respectively \\n')\n",
    "\n",
    "print ('Mean value of instrumentalness of no top songs and top songs are '+str(round(rest_data['instrumentalness'].mean(),2))+ ' and  ' + str(round(top_pop_song['instrumentalness'].mean(),2))+ ' respectively \\n')\n",
    "\n",
    "print ('Mean value of speechiness of no top songs and top songs are '+str(round(rest_data['speechiness'].mean(),2))+ ' and  ' + str(round(top_pop_song['speechiness'].mean(),2))+ ' respectively \\n')\n",
    "\n",
    "print ('Mean value of liveness of no top songs and top songs are '+str(round(rest_data['liveness'].mean(),2))+ ' and  ' + str(round(top_pop_song['liveness'].mean(),2))+ ' respectively \\n')\n",
    "\n",
    "print ('Mean value of acousticness of no top songs and top songs are '+str(round(rest_data['acousticness'].mean(),2))+ ' and  ' + str(round(top_pop_song['acousticness'].mean(),2))+ ' respectively \\n')"
   ]
  },
  {
   "cell_type": "code",
   "execution_count": 30,
   "metadata": {},
   "outputs": [],
   "source": [
    "# Provide lists to contain 7 features of tracks and their mean values from two dataframes \n",
    "features=['danceability','valence','energy','instrumentalness','speechiness','liveness', 'acousticness']\n",
    "rest=[0.58,0.44,0.57,0.23,0.11,0.2,0.35]\n",
    "top=[0.65,0.46,0.6,0.08,0.12,0.17,0.29]"
   ]
  },
  {
   "cell_type": "code",
   "execution_count": 32,
   "metadata": {
    "scrolled": false
   },
   "outputs": [
    {
     "data": {
      "image/png": "[encoded data removed]",
      "text/plain": [
       "<Figure size 1440x1152 with 1 Axes>"
      ]
     },
     "metadata": {
      "needs_background": "light"
     },
     "output_type": "display_data"
    }
   ],
   "source": [
    "# Set the style for matplotlib as ggplot\n",
    "#plt.style.use('ggplot')\n",
    "\n",
    "# obtain the angles using linespace function of numpy\n",
    "angles = np.linspace(0, 2*np.pi, len(features), endpoint=False)\n",
    "\n",
    "fig = plt.figure(figsize = (20,16))\n",
    "\n",
    "# Plot for top songs\n",
    "ax = fig.add_subplot(211, polar=True)\n",
    "ax.plot(angles, top, 'o-', linewidth=2, label = \"Popular\", color= 'green')\n",
    "ax.fill(angles, top, alpha=0.25, facecolor='green')\n",
    "ax.set_thetagrids(angles * 180/np.pi, features , fontsize = 13)\n",
    "\n",
    "# Set tick values for radar to cover the maximum of mean values\n",
    "ax.set_rlabel_position(250)\n",
    "plt.yticks([0.1 , 0.2 , 0.3 , 0.4, 0.5,  0.6, 0.7], [\"0.1\",'0.2', \"0.3\", \"0.4\", \"0.5\", \"0.6\", '0.7'], size=12)\n",
    "plt.ylim(0,0.7)\n",
    "\n",
    "# Plot for less popular songs\n",
    "ax.plot(angles, rest, 'o-', linewidth=2, label = \"Rest of Dataset\", color= 'black')\n",
    "ax.fill(angles, rest, alpha=0.25, facecolor='black')\n",
    "\n",
    "# Set title and legends of the chart\n",
    "ax.set_title('Mean Values')\n",
    "ax.grid(True)\n",
    "ax.legend(bbox_to_anchor=(1.05,1.0),loc='best'); "
   ]
  },
  {
   "cell_type": "markdown",
   "metadata": {},
   "source": [
    "> The radar chart gives us some useful and interesting observations. It seems like there are some differences between the two track subcategories.\n",
    "\n",
    "> First of all, with regard to tracks' mood, we can observe that the most popular songs have tendency to be more energetic, happier and more danceable than the rest of songs. \n",
    "\n",
    "> Along with higher level of energy, valence and danceability, the top popular songs seem to be also more likely to be less acoustic and mellow with piano or violin but significantly more vocal. This insight seems to give us an initial impression that songs have higher likelihood to become hits if they offer audiences the more compelling vocals and ignite the fresh, cheerful and positive feelings in audiences.\n",
    "\n",
    "> In regards to the context of the tracks, more popular songs have been recorded rather than performed live. "
   ]
  },
  {
   "cell_type": "markdown",
   "metadata": {},
   "source": [
    "#### Research Question 2.3. Do tracks with longer duration receive better ratings?"
   ]
  },
  {
   "cell_type": "markdown",
   "metadata": {},
   "source": [
    "#####  In the previous exploratory step, we also discover that there are tracks lasting more than an hour. We can detect what are those songs and what kind of track types they are."
   ]
  },
  {
   "cell_type": "code",
   "execution_count": 33,
   "metadata": {},
   "outputs": [
    {
     "data": {
      "text/html": [
       "<div>\n",
       "<style scoped>\n",
       "    .dataframe tbody tr th:only-of-type {\n",
       "        vertical-align: middle;\n",
       "    }\n",
       "\n",
       "    .dataframe tbody tr th {\n",
       "        vertical-align: top;\n",
       "    }\n",
       "\n",
       "    .dataframe thead th {\n",
       "        text-align: right;\n",
       "    }\n",
       "</style>\n",
       "<table border=\"1\" class=\"dataframe\">\n",
       "  <thead>\n",
       "    <tr style=\"text-align: right;\">\n",
       "      <th></th>\n",
       "      <th>artist_name</th>\n",
       "      <th>track_name</th>\n",
       "      <th>duration</th>\n",
       "      <th>popularity</th>\n",
       "    </tr>\n",
       "  </thead>\n",
       "  <tbody>\n",
       "    <tr>\n",
       "      <td>40548</td>\n",
       "      <td>John</td>\n",
       "      <td>Ever</td>\n",
       "      <td>93.50</td>\n",
       "      <td>0</td>\n",
       "    </tr>\n",
       "    <tr>\n",
       "      <td>40545</td>\n",
       "      <td>John</td>\n",
       "      <td>Whatever</td>\n",
       "      <td>84.00</td>\n",
       "      <td>1</td>\n",
       "    </tr>\n",
       "    <tr>\n",
       "      <td>40546</td>\n",
       "      <td>John</td>\n",
       "      <td>Yeah</td>\n",
       "      <td>81.56</td>\n",
       "      <td>0</td>\n",
       "    </tr>\n",
       "    <tr>\n",
       "      <td>40547</td>\n",
       "      <td>John</td>\n",
       "      <td>What</td>\n",
       "      <td>81.52</td>\n",
       "      <td>1</td>\n",
       "    </tr>\n",
       "    <tr>\n",
       "      <td>5427</td>\n",
       "      <td>Excision</td>\n",
       "      <td>Lost Lands 2017 Mix</td>\n",
       "      <td>80.51</td>\n",
       "      <td>41</td>\n",
       "    </tr>\n",
       "    <tr>\n",
       "      <td>40549</td>\n",
       "      <td>John</td>\n",
       "      <td>So</td>\n",
       "      <td>80.50</td>\n",
       "      <td>0</td>\n",
       "    </tr>\n",
       "    <tr>\n",
       "      <td>73443</td>\n",
       "      <td>Franco Escamilla</td>\n",
       "      <td>Lo Que No Le Dirías a Tu Pareja</td>\n",
       "      <td>77.70</td>\n",
       "      <td>32</td>\n",
       "    </tr>\n",
       "    <tr>\n",
       "      <td>83812</td>\n",
       "      <td>Franco Escamilla</td>\n",
       "      <td>Series De La Infancia</td>\n",
       "      <td>71.72</td>\n",
       "      <td>29</td>\n",
       "    </tr>\n",
       "    <tr>\n",
       "      <td>83902</td>\n",
       "      <td>DJ Luigi</td>\n",
       "      <td>Reggaeton Karmoso 12</td>\n",
       "      <td>62.96</td>\n",
       "      <td>14</td>\n",
       "    </tr>\n",
       "    <tr>\n",
       "      <td>88950</td>\n",
       "      <td>Franco Escamilla</td>\n",
       "      <td>29 de Mayo Ganan las Chivas (En Vivo)</td>\n",
       "      <td>62.82</td>\n",
       "      <td>27</td>\n",
       "    </tr>\n",
       "    <tr>\n",
       "      <td>67176</td>\n",
       "      <td>Monstercat</td>\n",
       "      <td>#187 - Monstercat: Call of the Wild (Now, Then...</td>\n",
       "      <td>62.23</td>\n",
       "      <td>0</td>\n",
       "    </tr>\n",
       "    <tr>\n",
       "      <td>83813</td>\n",
       "      <td>Franco Escamilla</td>\n",
       "      <td>Apodos</td>\n",
       "      <td>62.21</td>\n",
       "      <td>30</td>\n",
       "    </tr>\n",
       "    <tr>\n",
       "      <td>66193</td>\n",
       "      <td>Monstercat</td>\n",
       "      <td>#188 - Monstercat: Call of the Wild</td>\n",
       "      <td>61.76</td>\n",
       "      <td>0</td>\n",
       "    </tr>\n",
       "    <tr>\n",
       "      <td>39071</td>\n",
       "      <td>Monstercat</td>\n",
       "      <td>#195 - Monstercat: Call of the Wild</td>\n",
       "      <td>60.97</td>\n",
       "      <td>0</td>\n",
       "    </tr>\n",
       "    <tr>\n",
       "      <td>80947</td>\n",
       "      <td>Monstercat</td>\n",
       "      <td>#186 - Monstercat: Call of the Wild (Hosted by...</td>\n",
       "      <td>60.73</td>\n",
       "      <td>20</td>\n",
       "    </tr>\n",
       "    <tr>\n",
       "      <td>80740</td>\n",
       "      <td>Monstercat</td>\n",
       "      <td>#184 - Monstercat: Call of the Wild</td>\n",
       "      <td>60.69</td>\n",
       "      <td>14</td>\n",
       "    </tr>\n",
       "    <tr>\n",
       "      <td>27786</td>\n",
       "      <td>Monstercat</td>\n",
       "      <td>#194 - Monstercat: Call of the Wild (Hosted by...</td>\n",
       "      <td>60.46</td>\n",
       "      <td>0</td>\n",
       "    </tr>\n",
       "    <tr>\n",
       "      <td>55166</td>\n",
       "      <td>Monstercat</td>\n",
       "      <td>#189 - Monstercat: Call of the Wild</td>\n",
       "      <td>60.37</td>\n",
       "      <td>0</td>\n",
       "    </tr>\n",
       "    <tr>\n",
       "      <td>40951</td>\n",
       "      <td>Monstercat</td>\n",
       "      <td>#193 - Monstercat: Call of the Wild</td>\n",
       "      <td>60.07</td>\n",
       "      <td>0</td>\n",
       "    </tr>\n",
       "  </tbody>\n",
       "</table>\n",
       "</div>"
      ],
      "text/plain": [
       "            artist_name                                         track_name  \\\n",
       "40548              John                                               Ever   \n",
       "40545              John                                           Whatever   \n",
       "40546              John                                               Yeah   \n",
       "40547              John                                               What   \n",
       "5427           Excision                                Lost Lands 2017 Mix   \n",
       "40549              John                                                 So   \n",
       "73443  Franco Escamilla                    Lo Que No Le Dirías a Tu Pareja   \n",
       "83812  Franco Escamilla                              Series De La Infancia   \n",
       "83902          DJ Luigi                               Reggaeton Karmoso 12   \n",
       "88950  Franco Escamilla              29 de Mayo Ganan las Chivas (En Vivo)   \n",
       "67176        Monstercat  #187 - Monstercat: Call of the Wild (Now, Then...   \n",
       "83813  Franco Escamilla                                             Apodos   \n",
       "66193        Monstercat                #188 - Monstercat: Call of the Wild   \n",
       "39071        Monstercat                #195 - Monstercat: Call of the Wild   \n",
       "80947        Monstercat  #186 - Monstercat: Call of the Wild (Hosted by...   \n",
       "80740        Monstercat                #184 - Monstercat: Call of the Wild   \n",
       "27786        Monstercat  #194 - Monstercat: Call of the Wild (Hosted by...   \n",
       "55166        Monstercat                #189 - Monstercat: Call of the Wild   \n",
       "40951        Monstercat                #193 - Monstercat: Call of the Wild   \n",
       "\n",
       "       duration  popularity  \n",
       "40548     93.50           0  \n",
       "40545     84.00           1  \n",
       "40546     81.56           0  \n",
       "40547     81.52           1  \n",
       "5427      80.51          41  \n",
       "40549     80.50           0  \n",
       "73443     77.70          32  \n",
       "83812     71.72          29  \n",
       "83902     62.96          14  \n",
       "88950     62.82          27  \n",
       "67176     62.23           0  \n",
       "83813     62.21          30  \n",
       "66193     61.76           0  \n",
       "39071     60.97           0  \n",
       "80947     60.73          20  \n",
       "80740     60.69          14  \n",
       "27786     60.46           0  \n",
       "55166     60.37           0  \n",
       "40951     60.07           0  "
      ]
     },
     "execution_count": 33,
     "metadata": {},
     "output_type": "execute_result"
    }
   ],
   "source": [
    "# Look at 19 tracks that last more than 60 minutes\n",
    "df_long[['artist_name', 'track_name','duration', 'popularity']]"
   ]
  },
  {
   "cell_type": "markdown",
   "metadata": {},
   "source": [
    "> Those tracks appear to be either podcasts, albums and espisodes rather than single tracks and they do notseem to get high ratings on Spotify. "
   ]
  },
  {
   "cell_type": "markdown",
   "metadata": {},
   "source": [
    "#####  Do tracks with better ratings generally last shorter?\n"
   ]
  },
  {
   "cell_type": "code",
   "execution_count": 51,
   "metadata": {},
   "outputs": [
    {
     "name": "stdout",
     "output_type": "stream",
     "text": [
      "Mean length of most popular tracks is 3.36 whereas mean length of the rest of tracks is 3.55\n"
     ]
    }
   ],
   "source": [
    "# Average duration of the most popular tracks vs the rest of data\n",
    "print ('Mean length of most popular tracks is ' + str(round(top_pop_song['duration'].mean(),2)) + ' whereas mean length of the rest of tracks is '+ str(round(rest_data['duration'].mean(),2)))"
   ]
  },
  {
   "cell_type": "code",
   "execution_count": 52,
   "metadata": {},
   "outputs": [
    {
     "data": {
      "image/png": "[encoded data removed]",
      "text/plain": [
       "<Figure size 432x288 with 1 Axes>"
      ]
     },
     "metadata": {
      "needs_background": "light"
     },
     "output_type": "display_data"
    }
   ],
   "source": [
    "# Visualize the mean value of duration of two dataframes with bar chart\n",
    "X = ['Popular vs The rest']\n",
    "Ygirls = [3.36]\n",
    "Zboys = [3.55]\n",
    "  \n",
    "X_axis = np.arange(len(X))\n",
    "  \n",
    "plt.bar(X_axis - 0.2, Ygirls, 0.4, label = 'Top most popular',color='green')\n",
    "plt.bar(X_axis + 0.2, Zboys, 0.4, label = 'The rest', color ='grey')\n",
    "  \n",
    "plt.xticks(X_axis, X)\n",
    "\n",
    "plt.ylabel(\"Average duration of tracks in minutes\")\n",
    "plt.title(\"Average duration of popular vs non-popular tracks\", size = 15)\n",
    "plt.legend()\n",
    "plt.show()"
   ]
  },
  {
   "cell_type": "markdown",
   "metadata": {},
   "source": [
    "> As shown in chart, top songs have a higher tendency to be shorter in duration."
   ]
  },
  {
   "cell_type": "markdown",
   "metadata": {},
   "source": [
    "### V. Research Question 3: Is there any strong correlation between variables themself?"
   ]
  },
  {
   "cell_type": "code",
   "execution_count": 58,
   "metadata": {
    "scrolled": false
   },
   "outputs": [
    {
     "data": {
      "image/png": "[encoded data removed]",
      "text/plain": [
       "<Figure size 864x720 with 2 Axes>"
      ]
     },
     "metadata": {
      "needs_background": "light"
     },
     "output_type": "display_data"
    }
   ],
   "source": [
    "# Get the correlation heatmap of all variables\n",
    "feature_df=df.drop(columns=['artist_name','track_id','track_name','duration_ms','duration_minutes'])\n",
    "corr = feature_df.corr()\n",
    "plt.figure(figsize=(12,10))\n",
    "sns.heatmap(corr,cmap='Greens', annot=True ,fmt='.2f')\n",
    "plt.yticks(fontsize=12)\n",
    "plt.xticks(rotation=45,fontsize=12);"
   ]
  },
  {
   "cell_type": "markdown",
   "metadata": {},
   "source": [
    "### Some findings we can observe from the heatmap as follows:\n",
    "\n",
    "> The highest correlation is to be seen between loudness and energy which get the value of 0.77. This is possibly due to the fact that listeners have tendency to relate the high level of songs' energy with its loudness. One suggestion can be that musicians can best make their songs sound energetic by increasing the level of their's loudness. \n",
    "\n",
    "> Dancebility and valence has the second highest correlation of 0.46. This can be intuitively intepreted as the happier the songs are, the more danceable vibe they convey.\n",
    "\n",
    "> Acousticness and instrumentalness and liveness have a respectively -0.12, -0.22 and -0.03 correlation with popularity; This strenghthens the finding  we see in the previous exploration that Spotify audiences seem to prefer listening to tracks with electonic instruments like electric guitars and keyboards rather than enjoying acoustic ones such as acoustic guitar, piano, or orchestra."
   ]
  },
  {
   "cell_type": "markdown",
   "metadata": {},
   "source": [
    "<a id='conclusions'></a>\n",
    "## Conclusions\n",
    "\n",
    "> We have investigated the Spotify audio track dataset, wrangled and cleansed the data set, and made a few observations. We have found some main findings and a few recommendations to make a track publiced on Spotify popular as followed: \n",
    "\n",
    "> (1) Most prolific artists are of all time best-known composers of classical music.\n",
    "\n",
    "> (2) C Minor, C Major and G Major dominate other keys to be the most used musical keys due to convenience and ease to play on piano and guitar.\n",
    "\n",
    "> (3) Musicians can have a higher chance to make hits on Spotify by composing more energetic, positive and more danceable musical pieces. Generally, higher energy and lower songs out perform low energy and quieter songs.\n",
    "\n",
    "> (4) Tracks have higher likelihood to be popular if they offer audiences more compelling vocals and ignite the fresh, cheerful and positive feelings in audiences.\n",
    "\n",
    "> (5) Live performance are less prefered compared to recorded audios when it comes to taste of Spotify customers.\n",
    "\n",
    "> (6) On average, shorter duration of tracks are expected to give them a higher score of popularity. \n",
    "\n",
    "> (7) Generally, higher energy and louder tracks have a higher chance to become popular on Spotify than lower energy and quieter tracks.\n",
    "\n",
    "> (8) Using electonic instruments like electric guitars and keyboards can improve the chance of success for musicians once they release their songs on Spotify platform.\n",
    "\n",
    "> Regards to the limitations of this project, as this was only an exploratory analysis, these findings do not imply any statistical conclusions. The data should be further inspected with proper statistical test in order to drive more potential correlations."
   ]
  }
 ],
 "metadata": {
  "kernelspec": {
   "display_name": "Python 3",
   "language": "python",
   "name": "python3"
  },
  "language_info": {
   "codemirror_mode": {
    "name": "ipython",
    "version": 3
   },
   "file_extension": ".py",
   "mimetype": "text/x-python",
   "name": "python",
   "nbconvert_exporter": "python",
   "pygments_lexer": "ipython3",
   "version": "3.7.4"
  }
 },
 "nbformat": 4,
 "nbformat_minor": 2
}
